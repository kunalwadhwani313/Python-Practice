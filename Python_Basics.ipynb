{
  "nbformat": 4,
  "nbformat_minor": 0,
  "metadata": {
    "colab": {
      "provenance": [],
      "collapsed_sections": [
        "y6YA0BplCuT6"
      ],
      "authorship_tag": "ABX9TyNrVY+jOmfaPSrzUiRj1pkj"
    },
    "kernelspec": {
      "name": "python3",
      "display_name": "Python 3"
    },
    "language_info": {
      "name": "python"
    }
  },
  "cells": [
    {
      "cell_type": "markdown",
      "source": [
        "# **Python**"
      ],
      "metadata": {
        "id": "mo8Uxf6j1UsD"
      }
    },
    {
      "cell_type": "markdown",
      "source": [
        "**1**. **print()**"
      ],
      "metadata": {
        "id": "MgjjJR_-01He"
      }
    },
    {
      "cell_type": "code",
      "execution_count": null,
      "metadata": {
        "id": "GcaeL_yf0bTe",
        "colab": {
          "base_uri": "https://localhost:8080/"
        },
        "outputId": "93ed3a53-b211-4b77-ee30-4d781d8fba98"
      },
      "outputs": [
        {
          "output_type": "stream",
          "name": "stdout",
          "text": [
            "hello world\n",
            "5.6\n",
            "False\n",
            "India Pakistan Nepal Sri Lanka\n",
            "Brooklyn Nets 35 True\n"
          ]
        }
      ],
      "source": [
        "print(\"hello world\");\n",
        "print(5.6);\n",
        "print(False);\n",
        "\n",
        "# print multiple values\n",
        "print(\"India\" , \"Pakistan\" , \"Nepal\" , \"Sri Lanka\");\n",
        "\n",
        "#print multiple values of different type\n",
        "print(\"Brooklyn Nets\" , 35 , True);"
      ]
    },
    {
      "cell_type": "markdown",
      "source": [
        "print() has \n",
        "**sep=\" \" {space by default}** parameter"
      ],
      "metadata": {
        "id": "td-f99Ka2FNu"
      }
    },
    {
      "cell_type": "code",
      "source": [
        "print(\"LA Lakers\" , \"LA Clippers\" , sep=\"/\");\n",
        "\n",
        "print(\"Dallas\" , \"Mavericks\" , sep=\"-\");"
      ],
      "metadata": {
        "colab": {
          "base_uri": "https://localhost:8080/"
        },
        "id": "egiV-wOt2PFq",
        "outputId": "3ae082a5-7583-4327-981b-e53263894135"
      },
      "execution_count": null,
      "outputs": [
        {
          "output_type": "stream",
          "name": "stdout",
          "text": [
            "LA Lakers/LA Clippers\n",
            "Dallas-Mavericks\n"
          ]
        }
      ]
    },
    {
      "cell_type": "markdown",
      "source": [
        "print() also has **end=\"\\n\" {new line by default}** parameter"
      ],
      "metadata": {
        "id": "A5yBJu9k2qYl"
      }
    },
    {
      "cell_type": "code",
      "source": [
        "print(\"hello\" , end=\"\\t\");\n",
        "print(\"world\");\n",
        "\n",
        "print(\"Lemon\" , end=\"-\");\n",
        "print(\"Juice\");"
      ],
      "metadata": {
        "colab": {
          "base_uri": "https://localhost:8080/"
        },
        "id": "fUdBMeV_273p",
        "outputId": "3b90506c-fe31-4ae0-b10c-c268f0bb73ca"
      },
      "execution_count": null,
      "outputs": [
        {
          "output_type": "stream",
          "name": "stdout",
          "text": [
            "hello\tworld\n",
            "Lemon-Juice\n"
          ]
        }
      ]
    },
    {
      "cell_type": "markdown",
      "source": [
        "\n",
        "\n",
        "---\n",
        "\n"
      ],
      "metadata": {
        "id": "2p1uLiVI3URW"
      }
    },
    {
      "cell_type": "markdown",
      "source": [
        "*2*. **data types**"
      ],
      "metadata": {
        "id": "67tzqVQm3WU5"
      }
    },
    {
      "cell_type": "markdown",
      "source": [
        "**basic :** integer , float  , complex , boolean , string\n",
        "\n",
        "\n",
        "**container type :** list , tuples , set , dictionary\n",
        "\n",
        "**user defined :** Classes"
      ],
      "metadata": {
        "id": "d2Nh80bt3ZTU"
      }
    },
    {
      "cell_type": "code",
      "source": [
        "# integer\n",
        "print(10);\n",
        "print(1e308);\n",
        "\n",
        "# float\n",
        "print(4.5);\n",
        "print(1.7e308);\n",
        "\n",
        "# complex\n",
        "print(4+5j);\n",
        "\n",
        "a = 5 + 3j;\n",
        "b = 10 + 12j;\n",
        "print(a + b);\n",
        "\n",
        "\n",
        "# strings\n",
        "print('Bryant');\n",
        "print(\"Bryant\");\n",
        "print(\"\"\"Bryant\"\"\");"
      ],
      "metadata": {
        "colab": {
          "base_uri": "https://localhost:8080/"
        },
        "id": "jyCqZHtY3fsT",
        "outputId": "3c324884-38b0-4554-a769-619e59cd206c"
      },
      "execution_count": null,
      "outputs": [
        {
          "output_type": "stream",
          "name": "stdout",
          "text": [
            "10\n",
            "1e+308\n",
            "4.5\n",
            "1.7e+308\n",
            "(4+5j)\n",
            "(15+15j)\n",
            "Bryant\n",
            "Bryant\n",
            "Bryant\n"
          ]
        }
      ]
    },
    {
      "cell_type": "code",
      "source": [
        "# list []\n",
        "print(\"list \" , [1,2,3,4,5]);\n",
        "\n",
        "# tuple ()\n",
        "print(\"tuple \" ,(10 , 11 , 12 , 13));\n",
        "\n",
        "# set {}\n",
        "print(\"set \" , {20 , 30 , 40});\n",
        "\n",
        "# dictionary : key - value pair\n",
        "\n",
        "print ( \"dictionary\" , \n",
        "    \n",
        "      { \n",
        "      \"name\" : \"lebron\" , \n",
        "      \"age\" : 20,\n",
        "      \"team\" : \"lakers\"\n",
        "      }\n",
        "    );"
      ],
      "metadata": {
        "colab": {
          "base_uri": "https://localhost:8080/"
        },
        "id": "rnrZPUOsCFgu",
        "outputId": "eb89778d-51cc-4eaf-879d-de47ee1ced4e"
      },
      "execution_count": null,
      "outputs": [
        {
          "output_type": "stream",
          "name": "stdout",
          "text": [
            "list  [1, 2, 3, 4, 5]\n",
            "tuple  (10, 11, 12, 13)\n",
            "set  {40, 20, 30}\n",
            "dictionary {'name': 'lebron', 'age': 20, 'team': 'lakers'}\n"
          ]
        }
      ]
    },
    {
      "cell_type": "markdown",
      "source": [
        "\n",
        "\n",
        "---\n",
        "\n"
      ],
      "metadata": {
        "id": "BM9MeRwDDFRA"
      }
    },
    {
      "cell_type": "markdown",
      "source": [
        "3. **Variables & Identifiers** "
      ],
      "metadata": {
        "id": "Zas_OX6mDMrP"
      }
    },
    {
      "cell_type": "markdown",
      "source": [
        "**no variable declaration in python**\n",
        "\n",
        "\n",
        "**Dynamic Typing :** *no need to spcify data type of variable*\n",
        "\n",
        "\n",
        "**Dynamic Binding :** *one variable can store multiple data types . variables are not binded to data types.*"
      ],
      "metadata": {
        "id": "4bzU6dMLDUmm"
      }
    },
    {
      "cell_type": "code",
      "source": [
        "# declare multiple variables\n",
        "a = 5 ; b = 6 ; c = 12 ;\n",
        "print(a , b , c);\n",
        "\n",
        "# or\n",
        "\n",
        "a , b , c = 50 , 100 , 200 ;\n",
        "print(a , b , c);"
      ],
      "metadata": {
        "colab": {
          "base_uri": "https://localhost:8080/"
        },
        "id": "UbnPUPA6Evjs",
        "outputId": "b907cfc0-611f-4de1-9570-768dc0e3aa89"
      },
      "execution_count": null,
      "outputs": [
        {
          "output_type": "stream",
          "name": "stdout",
          "text": [
            "5 6 12\n",
            "50 100 200\n"
          ]
        }
      ]
    },
    {
      "cell_type": "markdown",
      "source": [
        "\n",
        "\n",
        "---\n",
        "\n"
      ],
      "metadata": {
        "id": "2RzfwhmGtsaV"
      }
    },
    {
      "cell_type": "markdown",
      "source": [
        "**4. Keywords**\n",
        "\n",
        "\n",
        "**python is CASE SENSITIVE**"
      ],
      "metadata": {
        "id": "KmSO8fgbFUod"
      }
    },
    {
      "cell_type": "code",
      "source": [
        "import keyword\n",
        "\n",
        "print(keyword.kwlist);"
      ],
      "metadata": {
        "colab": {
          "base_uri": "https://localhost:8080/"
        },
        "id": "3Z9tTrTkFT4G",
        "outputId": "5b803dd6-fbea-4ba8-b7cd-83b77ec58c33"
      },
      "execution_count": null,
      "outputs": [
        {
          "output_type": "stream",
          "name": "stdout",
          "text": [
            "['False', 'None', 'True', 'and', 'as', 'assert', 'async', 'await', 'break', 'class', 'continue', 'def', 'del', 'elif', 'else', 'except', 'finally', 'for', 'from', 'global', 'if', 'import', 'in', 'is', 'lambda', 'nonlocal', 'not', 'or', 'pass', 'raise', 'return', 'try', 'while', 'with', 'yield']\n"
          ]
        }
      ]
    },
    {
      "cell_type": "markdown",
      "source": [
        "\n",
        "\n",
        "---\n",
        "\n"
      ],
      "metadata": {
        "id": "GMWGDVzfHbUQ"
      }
    },
    {
      "cell_type": "markdown",
      "source": [
        "**5. User Input**"
      ],
      "metadata": {
        "id": "EojLFcwAHcRf"
      }
    },
    {
      "cell_type": "code",
      "source": [
        "name = input(\"Enter your name \");\n",
        "print(\"Hello \" + name + \" !\");"
      ],
      "metadata": {
        "colab": {
          "base_uri": "https://localhost:8080/"
        },
        "id": "K-RHNnrSHjEB",
        "outputId": "80b498a3-0edf-47b1-d341-2047ab4179f3"
      },
      "execution_count": null,
      "outputs": [
        {
          "output_type": "stream",
          "name": "stdout",
          "text": [
            "Enter your name N\n",
            "Hello N !\n"
          ]
        }
      ]
    },
    {
      "cell_type": "markdown",
      "source": [
        "**ALL INPUT TAKE FROM input() IS TAKEN IN AS STRING VALUE**"
      ],
      "metadata": {
        "id": "U9ubWEM8IYL9"
      }
    },
    {
      "cell_type": "code",
      "source": [
        "print(type(55));\n",
        "\n",
        "a = int(input(\"number 1 : \"));\n",
        "\n",
        "b = int(input(\"number 2 : \"));\n",
        "\n",
        "print(\"sum : \" , a + b);"
      ],
      "metadata": {
        "colab": {
          "base_uri": "https://localhost:8080/"
        },
        "id": "91E8gPDfMqFT",
        "outputId": "c2152bfc-f04c-4763-f5b9-efc370666ef6"
      },
      "execution_count": null,
      "outputs": [
        {
          "output_type": "stream",
          "name": "stdout",
          "text": [
            "<class 'int'>\n",
            "number 1 : 10\n",
            "number 2 : 20\n",
            "sum :  30\n"
          ]
        }
      ]
    },
    {
      "cell_type": "markdown",
      "source": [
        "**Type Conversion : *is not a permanent operation* ...**\n",
        "\n",
        "*implicit type conversion* : done automatically by python\n",
        "\n",
        "*explicit type conversion* : done by user "
      ],
      "metadata": {
        "id": "siYc0JWsNhD_"
      }
    },
    {
      "cell_type": "code",
      "source": [
        "# implicit / auto type conversion\n",
        "c = 5 + 3.9 ; \n",
        "print(c);"
      ],
      "metadata": {
        "colab": {
          "base_uri": "https://localhost:8080/"
        },
        "id": "otv128KpNqjC",
        "outputId": "52394110-406d-49a6-98b3-b7f8d7944026"
      },
      "execution_count": null,
      "outputs": [
        {
          "output_type": "stream",
          "name": "stdout",
          "text": [
            "8.9\n"
          ]
        }
      ]
    },
    {
      "cell_type": "code",
      "source": [
        "# explicit / manual type conversion\n",
        "\n",
        "# int( )\n",
        "print(type(int('45')));"
      ],
      "metadata": {
        "colab": {
          "base_uri": "https://localhost:8080/"
        },
        "id": "52GPqBeGOZxO",
        "outputId": "cb69dd09-216e-45d8-824c-e28fea4ab12a"
      },
      "execution_count": null,
      "outputs": [
        {
          "output_type": "stream",
          "name": "stdout",
          "text": [
            "<class 'int'>\n"
          ]
        }
      ]
    },
    {
      "cell_type": "markdown",
      "source": [
        "int( ) ,  float( ) , bool( ) , complex( ) , list( ) , tuple( ) , dict( )"
      ],
      "metadata": {
        "id": "eIkOAxIQOrVX"
      }
    },
    {
      "cell_type": "markdown",
      "source": [
        "**type conversion does not manipulate the same data**"
      ],
      "metadata": {
        "id": "NG0Id5mGO9aM"
      }
    },
    {
      "cell_type": "code",
      "source": [
        "a = 23.2;\n",
        "print(int(23.2)); # a new integer created\n",
        "print(a); # a still has same value"
      ],
      "metadata": {
        "colab": {
          "base_uri": "https://localhost:8080/"
        },
        "id": "4tdfkzUzPDCw",
        "outputId": "0abd8e82-f96d-424a-ea3e-a28b447be368"
      },
      "execution_count": null,
      "outputs": [
        {
          "output_type": "stream",
          "name": "stdout",
          "text": [
            "23\n",
            "23.2\n"
          ]
        }
      ]
    },
    {
      "cell_type": "markdown",
      "source": [
        "\n",
        "\n",
        "---\n",
        "\n"
      ],
      "metadata": {
        "id": "24IjVcjbPMaa"
      }
    },
    {
      "cell_type": "markdown",
      "source": [
        "**6. Literals**\n",
        " \n",
        "Literals : raw data given to variables\n",
        "\n",
        "\n",
        "\n",
        "*   Numeric literal\n",
        "*   String literal\n",
        "*   Boolean literal\n",
        "*   Special literal   \n",
        "\n",
        "Literal : **value given to a variable**"
      ],
      "metadata": {
        "id": "O2a-iasCPNy6"
      }
    },
    {
      "cell_type": "markdown",
      "source": [
        "***Numerical Literal***"
      ],
      "metadata": {
        "id": "mtMsqxApQAKn"
      }
    },
    {
      "cell_type": "code",
      "source": [
        "a = 0b1010 ; # binary literal\n",
        "b = 100 ; # decimal literal\n",
        "c = 0o310 ; # octal literal\n",
        "d = 0x12c ; # hexadecimal literal\n",
        "\n",
        "print(a , b , c , d);\n",
        "\n",
        "float_1 = 10.5;\n",
        "float_2 = 1.5e2; # 1.5 * 10 ^ 2\n",
        "float_3 = 1.5e-3; # 1.5 * 10 ^ -3\n",
        "\n",
        "print(float_1 , float_2 , float_3);\n",
        "\n",
        "# complex literal\n",
        "cmpx = 0 + 2.4j;\n",
        "print(cmpx);\n",
        "print(\"real part\" , cmpx.real);\n",
        "print(\"imaginary\" , cmpx.imag);"
      ],
      "metadata": {
        "colab": {
          "base_uri": "https://localhost:8080/"
        },
        "id": "1wPFI3l9QIw8",
        "outputId": "6f95e047-1cdf-487b-e9a8-f7e438ab8171"
      },
      "execution_count": null,
      "outputs": [
        {
          "output_type": "stream",
          "name": "stdout",
          "text": [
            "10 100 200 300\n",
            "10.5 150.0 0.0015\n",
            "2.4j\n",
            "real part 0.0\n",
            "imaginary 2.4\n"
          ]
        }
      ]
    },
    {
      "cell_type": "markdown",
      "source": [
        "Python **DOES NOT** have **Char Data Type.**"
      ],
      "metadata": {
        "id": "2MGgsOMWRcaO"
      }
    },
    {
      "cell_type": "code",
      "source": [
        "character = \"C\"; # also treated as a string\n",
        "print(type(character));"
      ],
      "metadata": {
        "colab": {
          "base_uri": "https://localhost:8080/"
        },
        "id": "bst9MzDbRwvF",
        "outputId": "ae99c4ba-575c-419a-dc90-72d0204d67ad"
      },
      "execution_count": null,
      "outputs": [
        {
          "output_type": "stream",
          "name": "stdout",
          "text": [
            "<class 'str'>\n"
          ]
        }
      ]
    },
    {
      "cell_type": "markdown",
      "source": [
        "**\" \" \" used for multi - line string \" \" \"** { triple inverted commas \" \" \"....\" \" \" }"
      ],
      "metadata": {
        "id": "FQ1BIYQHSCFe"
      }
    },
    {
      "cell_type": "markdown",
      "source": [
        "Python also accepts unicode string\n",
        "\n",
        "ex : str = **u** \" string.... \" ;"
      ],
      "metadata": {
        "id": "iqEpN-F4SsbM"
      }
    },
    {
      "cell_type": "code",
      "source": [
        "str1 = u\"😊\"; # 'u' helps to identify unicode character\n",
        "\n",
        "str2 = u\"🤣\";\n",
        "\n",
        "print(str1 , str2);"
      ],
      "metadata": {
        "colab": {
          "base_uri": "https://localhost:8080/"
        },
        "id": "6CKVQxYSS3DW",
        "outputId": "d38ee0ad-5d58-48ac-9bd0-da89e17fea1f"
      },
      "execution_count": null,
      "outputs": [
        {
          "output_type": "stream",
          "name": "stdout",
          "text": [
            "😊 🤣\n"
          ]
        }
      ]
    },
    {
      "cell_type": "markdown",
      "source": [
        "***Boolean Literal***"
      ],
      "metadata": {
        "id": "8ZbZCrIfTppw"
      }
    },
    {
      "cell_type": "code",
      "source": [
        "a = True + 1 ; # True implicit type conversion to 1\n",
        "b = False + 2; # similary b False => 0\n",
        "print(a , b);"
      ],
      "metadata": {
        "colab": {
          "base_uri": "https://localhost:8080/"
        },
        "id": "Hn3yZyWtTs19",
        "outputId": "264c1f70-0d41-4fba-b217-7ff2d3875758"
      },
      "execution_count": null,
      "outputs": [
        {
          "output_type": "stream",
          "name": "stdout",
          "text": [
            "2 2\n"
          ]
        }
      ]
    },
    {
      "cell_type": "markdown",
      "source": [
        "**Any Variable in Python CANNOT be left Uninitalized**\n",
        "\n",
        "\n",
        "**If A Variable is Declared the It HAS TO BE initialized**"
      ],
      "metadata": {
        "id": "lRwsLgCJW81K"
      }
    },
    {
      "cell_type": "markdown",
      "source": [
        "**None**\n",
        "\n",
        "used to initialize variables that are just ment to be declared for now then used / initialized AFTERWARDS...."
      ],
      "metadata": {
        "id": "KWfOtmg1XPUu"
      }
    },
    {
      "cell_type": "code",
      "source": [
        "var = None; # just to declare a variable\n",
        "print(var);"
      ],
      "metadata": {
        "colab": {
          "base_uri": "https://localhost:8080/"
        },
        "id": "r0KowrPIXeUQ",
        "outputId": "b435cc9a-8051-4561-f0cd-6772fcd2e99d"
      },
      "execution_count": null,
      "outputs": [
        {
          "output_type": "stream",
          "name": "stdout",
          "text": [
            "None\n"
          ]
        }
      ]
    },
    {
      "cell_type": "markdown",
      "source": [
        "\n",
        "\n",
        "---\n",
        "\n"
      ],
      "metadata": {
        "id": "oA95WnxX4DGD"
      }
    },
    {
      "cell_type": "markdown",
      "source": [
        "6. **Operators**\n",
        "\n"
      ],
      "metadata": {
        "id": "ZJpzsgex4EUS"
      }
    },
    {
      "cell_type": "code",
      "source": [
        "x = 20;\n",
        "y = 2;\n",
        "\n",
        "f = 3;\n",
        "\n",
        "print( x ** y ) # x to the power of y\n",
        "\n",
        "print( x // f ) # integer divison { returns an Integer Quotient ONLY }\n",
        "\n",
        "print( x / f )  # decimal divison { returns a decimal Quotient ONLY }"
      ],
      "metadata": {
        "colab": {
          "base_uri": "https://localhost:8080/"
        },
        "id": "VyFmapL04Pch",
        "outputId": "db50ee47-eeb6-47c9-bd36-7264917de632"
      },
      "execution_count": null,
      "outputs": [
        {
          "output_type": "stream",
          "name": "stdout",
          "text": [
            "400\n",
            "6\n",
            "6.666666666666667\n"
          ]
        }
      ]
    },
    {
      "cell_type": "markdown",
      "source": [
        "***Logical Operators***"
      ],
      "metadata": {
        "id": "42mfIydL_7VT"
      }
    },
    {
      "cell_type": "code",
      "source": [
        "# Logical Operators\n",
        "x = True;\n",
        "y = False;\n",
        "\n",
        "print(x or y);\n",
        "\n",
        "print(x and y);\n",
        "\n",
        "print( not x );"
      ],
      "metadata": {
        "colab": {
          "base_uri": "https://localhost:8080/"
        },
        "id": "haVllA0AAA31",
        "outputId": "83893e4b-6de9-4b36-c91c-a92390e48cd5"
      },
      "execution_count": null,
      "outputs": [
        {
          "output_type": "stream",
          "name": "stdout",
          "text": [
            "True\n",
            "False\n",
            "False\n"
          ]
        }
      ]
    },
    {
      "cell_type": "markdown",
      "source": [
        "***Bitwise Operator***"
      ],
      "metadata": {
        "id": "hy7ZCR1TAtBG"
      }
    },
    {
      "cell_type": "code",
      "source": [
        "# Bitwise Operators\n",
        "\n",
        "x = 3;\n",
        "y = 2;\n",
        "\n",
        "print( \" and \" , x & y); # and\n",
        "\n",
        "print(\" or \" , x | y); # or\n",
        "\n",
        "print(\" one's complement / negation \" , ~x ); # one's complement\n",
        "\n",
        "print(\" right shift \" ,  x >> 2); # right shift by 2\n",
        "\n",
        "print( \" left shift \" , y << 3); # left shift by 3"
      ],
      "metadata": {
        "colab": {
          "base_uri": "https://localhost:8080/"
        },
        "id": "hUMTvLzjAxBI",
        "outputId": "a89d38d2-518f-438c-a9bf-8715a52c96d4"
      },
      "execution_count": null,
      "outputs": [
        {
          "output_type": "stream",
          "name": "stdout",
          "text": [
            " and  2\n",
            " or  3\n",
            " one's complement / negation  -4\n",
            " right shift  0\n",
            " left shift  16\n"
          ]
        }
      ]
    },
    {
      "cell_type": "markdown",
      "source": [
        "***a++* && *++a* ARE NOT VALID IN PYTHON**"
      ],
      "metadata": {
        "id": "gK6evK_9iYDV"
      }
    },
    {
      "cell_type": "markdown",
      "source": [
        "**Identity Operator** : used to compare the *object's memory location*\n",
        "\n",
        "\n",
        "***is*** : returns true if both variables are the same object"
      ],
      "metadata": {
        "id": "YtMAen_GmiVP"
      }
    },
    {
      "cell_type": "code",
      "source": [
        "a = 3;\n",
        "b = 3;\n",
        "\n",
        "print(\"Id of variable 'a' :\" , id(a));\n",
        "print(\"Id of variable 'b' :\" , id(b));\n",
        "\n",
        "print(a is b);"
      ],
      "metadata": {
        "colab": {
          "base_uri": "https://localhost:8080/"
        },
        "id": "67wXllnomhze",
        "outputId": "748c7ffa-bf30-4511-c2c0-31433885aab6"
      },
      "execution_count": null,
      "outputs": [
        {
          "output_type": "stream",
          "name": "stdout",
          "text": [
            "Id of variable 'a' : 11256128\n",
            "Id of variable 'b' : 11256128\n",
            "True\n"
          ]
        }
      ]
    },
    {
      "cell_type": "markdown",
      "source": [
        " ```\n",
        " is == 'True' does not apply for Lists or string\n",
        " ```"
      ],
      "metadata": {
        "id": "QJoEgy2BE7NJ"
      }
    },
    {
      "cell_type": "code",
      "source": [
        "# Example"
      ],
      "metadata": {
        "id": "Q59vB8amFNrk"
      },
      "execution_count": null,
      "outputs": []
    },
    {
      "cell_type": "code",
      "source": [
        "a = \"hello\";\n",
        "b = \"hello\";\n",
        "\n",
        "print(a is b);"
      ],
      "metadata": {
        "colab": {
          "base_uri": "https://localhost:8080/"
        },
        "id": "d9jS8xg5FPG0",
        "outputId": "03c683b5-662b-429d-ea9f-730b8a9e3ff6"
      },
      "execution_count": null,
      "outputs": [
        {
          "output_type": "stream",
          "name": "stdout",
          "text": [
            "True\n"
          ]
        }
      ]
    },
    {
      "cell_type": "code",
      "source": [
        "a = [1,2,3];\n",
        "b = [1,2,3];\n",
        "\n",
        "print(a is b);"
      ],
      "metadata": {
        "colab": {
          "base_uri": "https://localhost:8080/"
        },
        "id": "E-7Pi1j7HMvB",
        "outputId": "6c7b24ee-0001-49bc-d3b6-f76e9d0ce230"
      },
      "execution_count": null,
      "outputs": [
        {
          "output_type": "stream",
          "name": "stdout",
          "text": [
            "False\n"
          ]
        }
      ]
    },
    {
      "cell_type": "code",
      "source": [
        "a = \"hello-world\";\n",
        "b = \"hello-world\";\n",
        "\n",
        "print(a is b);"
      ],
      "metadata": {
        "colab": {
          "base_uri": "https://localhost:8080/"
        },
        "id": "pJ6dmD1VHSDt",
        "outputId": "135d99f4-0793-4f65-f9e7-f0f41472ecf8"
      },
      "execution_count": null,
      "outputs": [
        {
          "output_type": "stream",
          "name": "stdout",
          "text": [
            "False\n"
          ]
        }
      ]
    },
    {
      "cell_type": "markdown",
      "source": [
        "\n",
        "\n",
        "---\n",
        "\n"
      ],
      "metadata": {
        "id": "eSf_hIplUXWD"
      }
    },
    {
      "cell_type": "code",
      "source": [
        "z = True + 1; \n",
        "print(z);  # converts True to 1 . { True => 1 }\n",
        "\n",
        "y = 1;\n",
        "\n",
        "print(not y);"
      ],
      "metadata": {
        "colab": {
          "base_uri": "https://localhost:8080/"
        },
        "id": "U6jo-KqssULT",
        "outputId": "d338fb96-4251-4639-c39f-0b2fd6aa9a86"
      },
      "execution_count": null,
      "outputs": [
        {
          "output_type": "stream",
          "name": "stdout",
          "text": [
            "2\n",
            "False\n"
          ]
        }
      ]
    },
    {
      "cell_type": "markdown",
      "source": [
        "\n",
        "\n",
        "---\n",
        "\n"
      ],
      "metadata": {
        "id": "kvkuC71tUZhG"
      }
    },
    {
      "cell_type": "markdown",
      "source": [
        "**Membership Operator**\n",
        "\n",
        "***Used to validate the membership of a value.***\n",
        "\n",
        "***only applicable for ITERATABLE objects***"
      ],
      "metadata": {
        "id": "uDvYZ82OKlaw"
      }
    },
    {
      "cell_type": "code",
      "source": [
        "x = \"Delhi\";\n",
        "\n",
        "print('D' in x);"
      ],
      "metadata": {
        "colab": {
          "base_uri": "https://localhost:8080/"
        },
        "id": "Rhgb4dv6KtEI",
        "outputId": "a8a1ffa2-be6c-408e-8ee6-90fe0197c54f"
      },
      "execution_count": null,
      "outputs": [
        {
          "output_type": "stream",
          "name": "stdout",
          "text": [
            "True\n"
          ]
        }
      ]
    },
    {
      "cell_type": "markdown",
      "source": [
        "\n",
        "\n",
        "---\n",
        "\n"
      ],
      "metadata": {
        "id": "M3yaq0ZOU-oT"
      }
    },
    {
      "cell_type": "markdown",
      "source": [
        "**7. Conditional Statements**\n",
        "\n",
        "\n",
        "***else if === elif***"
      ],
      "metadata": {
        "id": "Xzam_prhVFGL"
      }
    },
    {
      "cell_type": "code",
      "source": [
        "# correct email : abcd123@gmail.com\n",
        "# password : 1234\n",
        "\n",
        "user_email = input(\"Enter Email :\");\n",
        "\n",
        "user_password = int(input(\"enter Password :\"));\n",
        "\n",
        "if(user_email == \"abcd123@gmail.com\" and user_password == 1234 ) :\n",
        "  print(\"welcome! 👋\");\n",
        "\n",
        "elif(user_email == \"abcd123@gmail.com\") :\n",
        "    print(\"password incorrect!\");\n",
        "    user_password = int(input(\"enter password again\"));\n",
        "    # nested if-else\n",
        "    if(user_password == 1234) :\n",
        "      print(\"welcome! 👋\");\n",
        "\n",
        "    else :\n",
        "      print(\"invalid credentials 🖕\");\n",
        "\n",
        "else : \n",
        "  print(\"invalid credentials 🖕\");"
      ],
      "metadata": {
        "colab": {
          "base_uri": "https://localhost:8080/"
        },
        "id": "4S4QbuG8VU6q",
        "outputId": "b9a36270-8018-4e2c-ae5c-09d439ca4970"
      },
      "execution_count": null,
      "outputs": [
        {
          "output_type": "stream",
          "name": "stdout",
          "text": [
            "Enter Email :abcd123@gmail.com\n",
            "enter Password :1234\n",
            "welcome! 👋\n"
          ]
        }
      ]
    },
    {
      "cell_type": "markdown",
      "source": [
        "**Indentation**"
      ],
      "metadata": {
        "id": "WBAGCQDAZRTY"
      }
    },
    {
      "cell_type": "code",
      "source": [
        "if( 5 == '5') :\n",
        "  print(\"hello\");"
      ],
      "metadata": {
        "id": "KVZNZTmajsSw"
      },
      "execution_count": null,
      "outputs": []
    },
    {
      "cell_type": "markdown",
      "source": [
        "\n",
        "\n",
        "---\n",
        "\n"
      ],
      "metadata": {
        "id": "jU5GH-bEXRnG"
      }
    },
    {
      "cell_type": "markdown",
      "source": [
        "**8. Loops**\n",
        "\n",
        "*  while loop\n",
        "\n",
        "``syntax: while (condition) : code ; `` \n",
        "\n",
        "*  for loop\n",
        "\n",
        "**python does not support \" do-while \" loop**"
      ],
      "metadata": {
        "id": "EnUJUurDXTEk"
      }
    },
    {
      "cell_type": "code",
      "source": [
        "i = 5;\n",
        "\n",
        "while( i > 0 ) :\n",
        "      print(i);\n",
        "      i = i - 1;"
      ],
      "metadata": {
        "colab": {
          "base_uri": "https://localhost:8080/"
        },
        "id": "R1qvam5wXVPd",
        "outputId": "f45c8ce8-c8c8-4fc6-ee09-9dbef6e1c83c"
      },
      "execution_count": null,
      "outputs": [
        {
          "output_type": "stream",
          "name": "stdout",
          "text": [
            "5\n",
            "4\n",
            "3\n",
            "2\n",
            "1\n"
          ]
        }
      ]
    },
    {
      "cell_type": "markdown",
      "source": [
        "Examplary Game"
      ],
      "metadata": {
        "id": "oBSRTaaiaGFL"
      }
    },
    {
      "cell_type": "code",
      "source": [
        "import random\n",
        "\n",
        "jackpot = random.randint(1 , 10);\n",
        "# print(jackpot);\n",
        "\n",
        "guess = int(input(\"Guess the number \"));\n",
        "\n",
        "guesses = 1;\n",
        "\n",
        "while(guess != jackpot) :\n",
        "    if(guess < jackpot) :\n",
        "        print(\"Guess higher\");\n",
        "        guess = int(input(\"Guess the number \"));\n",
        "        guesses += 1;\n",
        "\n",
        "\n",
        "    else :\n",
        "        print(\"Guess lower\");\n",
        "        guess = int(input(\"Guess the number \"));\n",
        "        guess += 1;\n",
        "\n",
        "print(\"\\nRight Answer!! \\nNo. of guesses :\" , guesses);"
      ],
      "metadata": {
        "colab": {
          "base_uri": "https://localhost:8080/"
        },
        "id": "pheOsBRaaIoS",
        "outputId": "635cb77d-a741-4d19-fd53-0d10023db871"
      },
      "execution_count": null,
      "outputs": [
        {
          "output_type": "stream",
          "name": "stdout",
          "text": [
            "Guess the number 6\n",
            "\n",
            "Right Answer!! \n",
            "No. of guesses : 1\n"
          ]
        }
      ]
    },
    {
      "cell_type": "markdown",
      "source": [
        "for - loop"
      ],
      "metadata": {
        "id": "s6Tt9xbhcI4P"
      }
    },
    {
      "cell_type": "markdown",
      "source": [
        "range(a , b , step) => \n",
        "\n",
        "*returns all numbers from a to b - 1.*\n",
        "\n",
        "*, **step** parameter increases the iteration by step value*\n",
        "\n",
        "*if \" a \" not provided , then assumed value of a == 0*"
      ],
      "metadata": {
        "id": "et_jsebCsPEu"
      }
    },
    {
      "cell_type": "code",
      "source": [
        "# Examples\n",
        "\n",
        "print(\"1. \" , list(range(1 , 11)));\n",
        "\n",
        "print(\"\\n\");\n",
        "\n",
        "print(\"2. 'a' parameter not provided :\" , list(range(10)));\n",
        "\n",
        "print(\"\\n\");\n",
        "\n",
        "print(\"3. step = 2 \" , list(range(0 , 11 , 2)));\n",
        "\n",
        "print(\"\\n\");\n",
        "\n",
        "print(\"4. backwards \" , list(range(10 , 0 , -1)));"
      ],
      "metadata": {
        "colab": {
          "base_uri": "https://localhost:8080/"
        },
        "id": "gjdYvJSMcKhG",
        "outputId": "bad0c44c-f057-4f88-811a-2f680eb16388"
      },
      "execution_count": null,
      "outputs": [
        {
          "output_type": "stream",
          "name": "stdout",
          "text": [
            "1.  [1, 2, 3, 4, 5, 6, 7, 8, 9, 10]\n",
            "\n",
            "\n",
            "2. 'a' parameter not provided : [0, 1, 2, 3, 4, 5, 6, 7, 8, 9]\n",
            "\n",
            "\n",
            "3. step = 2  [0, 2, 4, 6, 8, 10]\n",
            "\n",
            "\n",
            "4. backwards  [10, 9, 8, 7, 6, 5, 4, 3, 2, 1]\n"
          ]
        }
      ]
    },
    {
      "cell_type": "markdown",
      "source": [
        "for loop traverses on sequences(list, string , sets, tuples etc. ) and range( ) function"
      ],
      "metadata": {
        "id": "gJrdUFTgZXKo"
      }
    },
    {
      "cell_type": "code",
      "source": [
        "# example of for loop\n",
        "\n",
        "for i in range(1 , 10) : # here step by default is +1\n",
        "  print(i);"
      ],
      "metadata": {
        "id": "4xNR9p5Atbxb",
        "colab": {
          "base_uri": "https://localhost:8080/"
        },
        "outputId": "686d5c9d-03b6-4cd5-95fb-fcdd6a5efb96"
      },
      "execution_count": null,
      "outputs": [
        {
          "output_type": "stream",
          "name": "stdout",
          "text": [
            "1\n",
            "2\n",
            "3\n",
            "4\n",
            "5\n",
            "6\n",
            "7\n",
            "8\n",
            "9\n"
          ]
        }
      ]
    },
    {
      "cell_type": "code",
      "source": [
        "# reverse for - loop\n",
        "\n",
        "for i in range(10 , 0 , -1) : # -1 is the step\n",
        "    print(i);"
      ],
      "metadata": {
        "colab": {
          "base_uri": "https://localhost:8080/"
        },
        "id": "l2vX9YCFZ6lA",
        "outputId": "4453160a-01d1-4c6f-b44b-9b49a8f8f9b5"
      },
      "execution_count": null,
      "outputs": [
        {
          "output_type": "stream",
          "name": "stdout",
          "text": [
            "10\n",
            "9\n",
            "8\n",
            "7\n",
            "6\n",
            "5\n",
            "4\n",
            "3\n",
            "2\n",
            "1\n"
          ]
        }
      ]
    },
    {
      "cell_type": "code",
      "source": [
        "# for loop on a string\n",
        "\n",
        "for i in \"Kolkata\":\n",
        "    print(i);"
      ],
      "metadata": {
        "colab": {
          "base_uri": "https://localhost:8080/"
        },
        "id": "yI5WRY4uaN5f",
        "outputId": "27b7a4e1-47e2-4710-9bed-19616970c8f7"
      },
      "execution_count": null,
      "outputs": [
        {
          "output_type": "stream",
          "name": "stdout",
          "text": [
            "K\n",
            "o\n",
            "l\n",
            "k\n",
            "a\n",
            "t\n",
            "a\n"
          ]
        }
      ]
    },
    {
      "cell_type": "code",
      "source": [
        "for i in { 1 , 2 , 3, 4 , 5} :\n",
        "    print(i);"
      ],
      "metadata": {
        "colab": {
          "base_uri": "https://localhost:8080/"
        },
        "id": "xqw39adSaYrw",
        "outputId": "6527e85d-2270-4555-ce73-399f1924d70a"
      },
      "execution_count": null,
      "outputs": [
        {
          "output_type": "stream",
          "name": "stdout",
          "text": [
            "1\n",
            "2\n",
            "3\n",
            "4\n",
            "5\n"
          ]
        }
      ]
    },
    {
      "cell_type": "markdown",
      "source": [
        "Nested Loops"
      ],
      "metadata": {
        "id": "VXpxpeF0bGaX"
      }
    },
    {
      "cell_type": "code",
      "source": [
        "# printing pattern\n",
        "\n",
        "row = int(input(\"enter the number of rows: \"));\n",
        "\n",
        "for i in range(1 , row+1) :\n",
        "  for j in range(1 , i) :\n",
        "    print(\"*\" , end=\"\");\n",
        "    \n",
        "  print();"
      ],
      "metadata": {
        "id": "-oRjiou6bIlz",
        "colab": {
          "base_uri": "https://localhost:8080/"
        },
        "outputId": "253929e4-4372-4d8b-bf4c-75ca1c02b7ef"
      },
      "execution_count": null,
      "outputs": [
        {
          "output_type": "stream",
          "name": "stdout",
          "text": [
            "enter the number of rows: 10\n",
            "\n",
            "*\n",
            "**\n",
            "***\n",
            "****\n",
            "*****\n",
            "******\n",
            "*******\n",
            "********\n",
            "*********\n"
          ]
        }
      ]
    },
    {
      "cell_type": "markdown",
      "source": [
        "**Break**  , **Continue** & **Pass**\n",
        "\n",
        "**Pass** : *is just a filler*"
      ],
      "metadata": {
        "id": "NNAurt8BeHvF"
      }
    },
    {
      "cell_type": "code",
      "source": [
        "\n",
        "# 'break' used in Linear Search\n",
        "\n",
        "my_list = [\"Kevin\" , \"James\" , \"Stephen\" , \"Kobe\" , \"Jordan\"];\n",
        "\n",
        "for i in my_list :\n",
        "  if i == \"Kobe\" :\n",
        "    print(\"Found !\");\n",
        "    break;\n",
        "\n",
        "  print(\"Finding....\")"
      ],
      "metadata": {
        "colab": {
          "base_uri": "https://localhost:8080/"
        },
        "id": "Nc7v7wHweO9C",
        "outputId": "90635a75-7381-40d0-ae76-1a8083a51a86"
      },
      "execution_count": null,
      "outputs": [
        {
          "output_type": "stream",
          "name": "stdout",
          "text": [
            "Finding....\n",
            "Finding....\n",
            "Finding....\n",
            "Found !\n"
          ]
        }
      ]
    },
    {
      "cell_type": "code",
      "source": [
        "# example of 'continue'\n",
        "\n",
        "for i in range(1 , 11) :\n",
        "  if i == 5 :\n",
        "    print(\"continue encounted! \\nSkip the code below it.\");\n",
        "    continue\n",
        "  print(i);"
      ],
      "metadata": {
        "colab": {
          "base_uri": "https://localhost:8080/"
        },
        "id": "-8UA_y_0k7Iv",
        "outputId": "cefb0766-9799-4215-d228-a758c9d738cd"
      },
      "execution_count": null,
      "outputs": [
        {
          "output_type": "stream",
          "name": "stdout",
          "text": [
            "1\n",
            "2\n",
            "3\n",
            "4\n",
            "continue encounted! \n",
            "Skip the code below it.\n",
            "6\n",
            "7\n",
            "8\n",
            "9\n",
            "10\n"
          ]
        }
      ]
    },
    {
      "cell_type": "code",
      "source": [
        "# example of 'pass'\n",
        "\n",
        "for i in range(1 , 5) :\n",
        "  # code to be added later\n",
        "  pass;"
      ],
      "metadata": {
        "id": "Eb9R0-kgqHER"
      },
      "execution_count": null,
      "outputs": []
    },
    {
      "cell_type": "markdown",
      "source": [
        "\n",
        "\n",
        "---\n",
        "\n"
      ],
      "metadata": {
        "id": "bsrw75Lcqjm3"
      }
    },
    {
      "cell_type": "markdown",
      "source": [
        "**9. Functions**"
      ],
      "metadata": {
        "id": "KGq0L6tcqkw8"
      }
    },
    {
      "cell_type": "markdown",
      "source": [
        "**Built-in Functions**\n",
        "\n",
        "\n",
        "\n",
        "*   print()\n",
        "\n",
        "*   input()\n",
        "\n",
        "*   type() : tells the data type\n",
        "\n",
        "*   int() , float() , list() , string() , etc.... converting to a data type\n",
        "\n"
      ],
      "metadata": {
        "id": "WmSiGBuHqpDD"
      }
    },
    {
      "cell_type": "code",
      "source": [
        "print(abs(-1)); # modulus function\n",
        "print(abs(5));\n",
        "print(abs(0 - 1j)); #modulus of complex number"
      ],
      "metadata": {
        "colab": {
          "base_uri": "https://localhost:8080/"
        },
        "id": "allGNMaPhhJk",
        "outputId": "0fc01c11-f503-4efc-d3ee-5105259cf3d3"
      },
      "execution_count": null,
      "outputs": [
        {
          "output_type": "stream",
          "name": "stdout",
          "text": [
            "1\n",
            "5\n",
            "1.0\n"
          ]
        }
      ]
    },
    {
      "cell_type": "code",
      "source": [
        "# pow() power(a , b) => a ^ b\n",
        "\n",
        "print(pow(2 , 3));\n",
        "print(pow(4 + 5j , 3));"
      ],
      "metadata": {
        "colab": {
          "base_uri": "https://localhost:8080/"
        },
        "id": "le-7-FOIiTYl",
        "outputId": "f8213cf0-ad79-45bb-9a76-50015fd200c3"
      },
      "execution_count": null,
      "outputs": [
        {
          "output_type": "stream",
          "name": "stdout",
          "text": [
            "8\n",
            "(-236+115j)\n"
          ]
        }
      ]
    },
    {
      "cell_type": "code",
      "source": [
        "# min / max \n",
        "# in min() / max() we have to pass \"iterables\"(like string , list , tuples etc..)\n",
        "\n",
        "print(min([2,3,4,5,1,-1]));\n",
        "\n",
        "# for strings min/max is taken lexicographically\n",
        "print(min(\"kolkata\"))\n",
        "\n",
        "print(max(\"kolkata\"))"
      ],
      "metadata": {
        "colab": {
          "base_uri": "https://localhost:8080/"
        },
        "id": "bZuZ1NJvik2N",
        "outputId": "dcb0a130-f9d1-4ae6-adeb-66d8115fb255"
      },
      "execution_count": null,
      "outputs": [
        {
          "output_type": "stream",
          "name": "stdout",
          "text": [
            "-1\n",
            "a\n",
            "t\n"
          ]
        }
      ]
    },
    {
      "cell_type": "code",
      "source": [
        "# round()\n",
        "\n",
        "c = 22 / 7;\n",
        "print(c);\n",
        "\n",
        "# after rounding....\n",
        "print(round(c));\n",
        "\n",
        "print(round(c , 3));"
      ],
      "metadata": {
        "colab": {
          "base_uri": "https://localhost:8080/"
        },
        "id": "-EYwp1aLtKrp",
        "outputId": "9e3a1ae8-4298-4fae-ec86-a93bcdc54341"
      },
      "execution_count": null,
      "outputs": [
        {
          "output_type": "stream",
          "name": "stdout",
          "text": [
            "3.142857142857143\n",
            "3\n",
            "3.143\n"
          ]
        }
      ]
    },
    {
      "cell_type": "code",
      "source": [
        "# divmod()\n",
        "# returns tuple\n",
        "# returns (x // y , x % y);\n",
        "# x // y => means integer quotient (integer division)....\n",
        "# x % y => means modulus / returns remainder....\n",
        "print(divmod(5 , 2));\n",
        "\n",
        "print(divmod(10 , 3));"
      ],
      "metadata": {
        "colab": {
          "base_uri": "https://localhost:8080/"
        },
        "id": "ML_96CIKt31b",
        "outputId": "47899d9d-ff1a-441a-f336-2111de5c89a1"
      },
      "execution_count": null,
      "outputs": [
        {
          "output_type": "stream",
          "name": "stdout",
          "text": [
            "(2, 1)\n",
            "(3, 1)\n"
          ]
        }
      ]
    },
    {
      "cell_type": "code",
      "source": [
        "# bin() / oct() / hex()\n",
        "\n",
        "print(bin(4)); # binary of 4\n",
        "\n",
        "print(oct(9)); # octal of 4\n",
        "\n",
        "print(hex(23));"
      ],
      "metadata": {
        "colab": {
          "base_uri": "https://localhost:8080/"
        },
        "id": "LWQbcGZSvuHO",
        "outputId": "5f0319c7-6aff-45fe-f8c7-836dae167372"
      },
      "execution_count": null,
      "outputs": [
        {
          "output_type": "stream",
          "name": "stdout",
          "text": [
            "0b100\n",
            "0o11\n",
            "0x17\n"
          ]
        }
      ]
    },
    {
      "cell_type": "code",
      "source": [
        "# id() :- returns the address of a variable\n",
        "\n",
        "c = 22;\n",
        "\n",
        "print(id(c));\n",
        "\n",
        "print(id(33));"
      ],
      "metadata": {
        "colab": {
          "base_uri": "https://localhost:8080/"
        },
        "id": "48DWgV7ivwgR",
        "outputId": "d931679f-7f87-4995-ab79-765fd3586f01"
      },
      "execution_count": null,
      "outputs": [
        {
          "output_type": "stream",
          "name": "stdout",
          "text": [
            "11256736\n",
            "11257088\n"
          ]
        }
      ]
    },
    {
      "cell_type": "code",
      "source": [
        "# ord() :- returns ASCII code of a value\n",
        "\n",
        "print(ord('A'));\n",
        "\n",
        "print(ord('a'));\n",
        "\n",
        "print(ord('z'));"
      ],
      "metadata": {
        "colab": {
          "base_uri": "https://localhost:8080/"
        },
        "id": "suO-Lyo7wonP",
        "outputId": "8fb54afe-cf1c-4a96-ec46-6b2392fe4b93"
      },
      "execution_count": null,
      "outputs": [
        {
          "output_type": "stream",
          "name": "stdout",
          "text": [
            "65\n",
            "97\n",
            "122\n"
          ]
        }
      ]
    },
    {
      "cell_type": "code",
      "source": [
        "# len() : returns length of iterable\n",
        "\n",
        "my_list = [1,2,3,4,5,6,7];\n",
        "\n",
        "print(len(my_list));"
      ],
      "metadata": {
        "colab": {
          "base_uri": "https://localhost:8080/"
        },
        "id": "wV-ljGWvw6zV",
        "outputId": "67e43ac6-8276-4f94-b194-5cfe6cef9ea8"
      },
      "execution_count": null,
      "outputs": [
        {
          "output_type": "stream",
          "name": "stdout",
          "text": [
            "7\n"
          ]
        }
      ]
    },
    {
      "cell_type": "code",
      "source": [
        "# sum() : sum of ITERATABLE\n",
        "\n",
        "print(sum({1,2,3,4,5}));\n",
        "\n",
        "# print(sum(\"ABC\")); CANNOT ITRERATE OVER NON - NUMERIC"
      ],
      "metadata": {
        "colab": {
          "base_uri": "https://localhost:8080/"
        },
        "id": "fjzDYZ8fxVw2",
        "outputId": "083d352d-8e72-433b-9704-4e45f7c5ff52"
      },
      "execution_count": null,
      "outputs": [
        {
          "output_type": "stream",
          "name": "stdout",
          "text": [
            "15\n"
          ]
        }
      ]
    },
    {
      "cell_type": "markdown",
      "source": [
        "IF WE DON'T KNOW ABOUT ANY FUNCTION...\n",
        "TO KNOW , WE CAN USE help()"
      ],
      "metadata": {
        "id": "I1kLweWA4B3g"
      }
    },
    {
      "cell_type": "code",
      "source": [
        "help(\"input\");"
      ],
      "metadata": {
        "colab": {
          "base_uri": "https://localhost:8080/"
        },
        "id": "ldNnU_Ko4Kzc",
        "outputId": "7c82ba42-0aab-469e-bca2-334afc551356"
      },
      "execution_count": null,
      "outputs": [
        {
          "output_type": "stream",
          "name": "stdout",
          "text": [
            "Help on method raw_input in module ipykernel.kernelbase:\n",
            "\n",
            "input = raw_input(prompt='') method of google.colab._kernel.Kernel instance\n",
            "    Forward raw_input to frontends\n",
            "    \n",
            "    Raises\n",
            "    ------\n",
            "    StdinNotImplentedError if active frontend doesn't support stdin.\n",
            "\n"
          ]
        }
      ]
    },
    {
      "cell_type": "markdown",
      "source": [
        "\n",
        "\n",
        "---\n",
        "\n"
      ],
      "metadata": {
        "id": "2HoW-a9c6Io5"
      }
    },
    {
      "cell_type": "markdown",
      "source": [
        "**8. Modules** : a file containing a set of functions which can be used when we import the module."
      ],
      "metadata": {
        "id": "4r3W9Qpe6Jpi"
      }
    },
    {
      "cell_type": "code",
      "source": [
        "print(help(\"modules\")); # returns list of all the modules that are available to be imported"
      ],
      "metadata": {
        "colab": {
          "base_uri": "https://localhost:8080/"
        },
        "id": "VI-7EC7f6Br5",
        "outputId": "86cd522c-fc90-4e19-f11e-91389f4e530f"
      },
      "execution_count": null,
      "outputs": [
        {
          "output_type": "stream",
          "name": "stdout",
          "text": [
            "\n",
            "Please wait a moment while I gather a list of all available modules...\n",
            "\n"
          ]
        },
        {
          "output_type": "stream",
          "name": "stderr",
          "text": [
            "/usr/local/lib/python3.7/dist-packages/IPython/kernel/__init__.py:13: ShimWarning: The `IPython.kernel` package has been deprecated since IPython 4.0.You should import from ipykernel or jupyter_client instead.\n",
            "  \"You should import from ipykernel or jupyter_client instead.\", ShimWarning)\n",
            "WARNING: AstropyDeprecationWarning: The private astropy._erfa module has been made into its own package, pyerfa, which is a dependency of astropy and can be imported directly using \"import erfa\" [astropy._erfa]\n",
            "WARNING:astropy:AstropyDeprecationWarning: The private astropy._erfa module has been made into its own package, pyerfa, which is a dependency of astropy and can be imported directly using \"import erfa\"\n",
            "/usr/local/lib/python3.7/dist-packages/caffe2/__init__.py:5: UserWarning: Caffe2 support is not fully enabled in this PyTorch build. Please enable Caffe2 by building PyTorch from source with `BUILD_CAFFE2=1` flag.\n",
            "  warnings.warn(\"Caffe2 support is not fully enabled in this PyTorch build. \"\n",
            "/usr/local/lib/python3.7/dist-packages/caffe2/proto/__init__.py:17: UserWarning: Caffe2 support is not enabled in this PyTorch build. Please enable Caffe2 by building PyTorch from source with `BUILD_CAFFE2=1` flag.\n",
            "  warnings.warn('Caffe2 support is not enabled in this PyTorch build. '\n",
            "/usr/local/lib/python3.7/dist-packages/caffe2/proto/__init__.py:17: UserWarning: Caffe2 support is not enabled in this PyTorch build. Please enable Caffe2 by building PyTorch from source with `BUILD_CAFFE2=1` flag.\n",
            "  warnings.warn('Caffe2 support is not enabled in this PyTorch build. '\n",
            "/usr/local/lib/python3.7/dist-packages/caffe2/python/__init__.py:9: UserWarning: Caffe2 support is not enabled in this PyTorch build. Please enable Caffe2 by building PyTorch from source with `BUILD_CAFFE2=1` flag.\n",
            "  warnings.warn('Caffe2 support is not enabled in this PyTorch build. '\n",
            "/usr/local/lib/python3.7/dist-packages/past/types/oldstr.py:5: DeprecationWarning:\n",
            "\n",
            "Using or importing the ABCs from 'collections' instead of from 'collections.abc' is deprecated since Python 3.3,and in 3.9 it will stop working\n",
            "\n",
            "/usr/local/lib/python3.7/dist-packages/intervaltree/intervaltree.py:37: DeprecationWarning:\n",
            "\n",
            "Using or importing the ABCs from 'collections' instead of from 'collections.abc' is deprecated since Python 3.3,and in 3.9 it will stop working\n",
            "\n",
            "/usr/local/lib/python3.7/dist-packages/jupyter_client/ssh/tunnel.py:57: DeprecationWarning:\n",
            "\n",
            "zmq.utils.strtypes is deprecated in pyzmq 23.\n",
            "\n",
            "/usr/local/lib/python3.7/dist-packages/librosa/core/constantq.py:1059: DeprecationWarning:\n",
            "\n",
            "`np.complex` is a deprecated alias for the builtin `complex`. To silence this warning, use `complex` by itself. Doing this will not modify any behavior and is safe. If you specifically wanted the numpy scalar type, use `np.complex128` here.\n",
            "Deprecated in NumPy 1.20; for more details and guidance: https://numpy.org/devdocs/release/1.20.0-notes.html#deprecations\n",
            "\n",
            "/usr/local/lib/python3.7/dist-packages/llvmlite/llvmpy/__init__.py:4: UserWarning:\n",
            "\n",
            "The module `llvmlite.llvmpy` is deprecated and will be removed in the future.\n",
            "\n"
          ]
        },
        {
          "output_type": "stream",
          "name": "stdout",
          "text": [
            "Downloading http://dlib.net/files/shape_predictor_68_face_landmarks.dat.bz2 to /root/mlxtend_data/shape_predictor_68_face_landmarks.dat.bz2\n"
          ]
        },
        {
          "output_type": "stream",
          "name": "stderr",
          "text": [
            "/usr/local/lib/python3.7/dist-packages/nbconvert/filters/strings.py:22: DeprecationWarning:\n",
            "\n",
            "defusedxml.cElementTree is deprecated, import from defusedxml.ElementTree instead.\n",
            "\n",
            "/usr/local/lib/python3.7/dist-packages/nibabel/quaternions.py:31: DeprecationWarning:\n",
            "\n",
            "`np.float` is a deprecated alias for the builtin `float`. To silence this warning, use `float` by itself. Doing this will not modify any behavior and is safe. If you specifically wanted the numpy scalar type, use `np.float64` here.\n",
            "Deprecated in NumPy 1.20; for more details and guidance: https://numpy.org/devdocs/release/1.20.0-notes.html#deprecations\n",
            "\n",
            "/usr/lib/python3.7/pkgutil.py:92: UserWarning:\n",
            "\n",
            "The DICOM readers are highly experimental, unstable, and only work for Siemens time-series at the moment\n",
            "Please use with caution.  We would be grateful for your help in improving them\n",
            "\n",
            "/usr/local/lib/python3.7/dist-packages/nltk/twitter/__init__.py:21: UserWarning:\n",
            "\n",
            "The twython library has not been installed. Some functionality from the twitter package will not be available.\n",
            "\n",
            "/usr/local/lib/python3.7/dist-packages/pip/_vendor/packaging/version.py:130: DeprecationWarning:\n",
            "\n",
            "Creating a LegacyVersion has been deprecated and will be removed in the next major release\n",
            "\n",
            "/usr/local/lib/python3.7/dist-packages/pip/_vendor/packaging/version.py:130: DeprecationWarning:\n",
            "\n",
            "Creating a LegacyVersion has been deprecated and will be removed in the next major release\n",
            "\n",
            "/usr/local/lib/python3.7/dist-packages/theano/scalar/basic.py:2412: DeprecationWarning: `np.bool` is a deprecated alias for the builtin `bool`. To silence this warning, use `bool` by itself. Doing this will not modify any behavior and is safe. If you specifically wanted the numpy scalar type, use `np.bool_` here.\n",
            "Deprecated in NumPy 1.20; for more details and guidance: https://numpy.org/devdocs/release/1.20.0-notes.html#deprecations\n",
            "/usr/local/lib/python3.7/dist-packages/theano/tensor/basic.py:369: DeprecationWarning: `np.complex` is a deprecated alias for the builtin `complex`. To silence this warning, use `complex` by itself. Doing this will not modify any behavior and is safe. If you specifically wanted the numpy scalar type, use `np.complex128` here.\n",
            "Deprecated in NumPy 1.20; for more details and guidance: https://numpy.org/devdocs/release/1.20.0-notes.html#deprecations\n",
            "/usr/local/lib/python3.7/dist-packages/pymc3/distributions/distribution.py:386: DeprecationWarning: Call to deprecated Parameter testval. (replaced by `initval` in PyMC 4.0.0) -- Deprecated since v3.11.5.\n",
            "/usr/lib/python3.7/pkgutil.py:92: UserWarning: Viewer requires Qt\n",
            "/usr/local/lib/python3.7/dist-packages/sphinx/websupport/__init__.py:25: RemovedInSphinx20Warning: sphinx.websupport module is now provided as sphinxcontrib-websupport. sphinx.websupport will be removed at Sphinx-2.0. Please use the package instead.\n",
            "/usr/local/lib/python3.7/dist-packages/marshmallow/fields.py:569: RemovedInMarshmallow4Warning: The 'missing' argument to fields is deprecated. Use 'load_default' instead.\n",
            "/usr/local/lib/python3.7/dist-packages/tensorboard/_vendor/html5lib/filters/sanitizer.py:29: DeprecationWarning: html5lib's sanitizer is deprecated; see https://github.com/html5lib/html5lib-python/issues/443 and please let us know if Bleach is unsuitable for your needs\n",
            "/usr/local/lib/python3.7/dist-packages/torch/distributed/_sharded_tensor/__init__.py:10: DeprecationWarning: torch.distributed._sharded_tensor will be deprecated, use torch.distributed._shard.sharded_tensor instead\n",
            "/usr/local/lib/python3.7/dist-packages/torch/distributed/_sharding_spec/__init__.py:10: DeprecationWarning: torch.distributed._sharding_spec will be deprecated, use torch.distributed._shard.sharding_spec instead\n"
          ]
        },
        {
          "output_type": "stream",
          "name": "stdout",
          "text": [
            "No CUDA runtime is found, using CUDA_HOME='/usr/local/cuda'\n",
            "Cython              colorcet            keras_preprocessing rmagic\n",
            "IPython             colorlover          keyword             rpy2\n",
            "OpenGL              colorsys            kiwisolver          rsa\n",
            "PIL                 community           korean_lunar_calendar runpy\n",
            "ScreenResolution    compileall          langcodes           samples\n",
            "__future__          concurrent          lib2to3             sched\n",
            "_abc                configparser        libfuturize         scipy\n",
            "_ast                contextlib          libpasteurize       scs\n",
            "_asyncio            contextlib2         librosa             seaborn\n",
            "_bisect             contextvars         lightgbm            secrets\n",
            "_blake2             convertdate         linecache           select\n",
            "_bootlocale         copy                llvmlite            selectors\n",
            "_bz2                copyreg             lmdb                semver\n",
            "_cffi_backend       crashtest           locale              send2trash\n",
            "_codecs             crcmod              locket              setuptools\n",
            "_codecs_cn          crypt               logging             setuptools_git\n",
            "_codecs_hk          csimdjson           lsb_release         shapely\n",
            "_codecs_iso2022     csv                 lunarcalendar       shelve\n",
            "_codecs_jp          ctypes              lxml                shlex\n",
            "_codecs_kr          cufflinks           lzma                shutil\n",
            "_codecs_tw          curses              macpath             signal\n",
            "_collections        cv2                 mailbox             simdjson\n",
            "_collections_abc    cvxopt              mailcap             site\n",
            "_compat_pickle      cvxpy               markdown            sitecustomize\n",
            "_compression        cycler              markupsafe          six\n",
            "_contextvars        cymem               marshal             skimage\n",
            "_crypt              cython              marshmallow         sklearn\n",
            "_csv                cythonmagic         math                sklearn_pandas\n",
            "_ctypes             daft                matplotlib          slugify\n",
            "_ctypes_test        dask                matplotlib_venn     smart_open\n",
            "_curses             dataclasses         mimetypes           smtpd\n",
            "_curses_panel       datascience         missingno           smtplib\n",
            "_cvxcore            datetime            mistune             sndhdr\n",
            "_datetime           dateutil            mizani              snowballstemmer\n",
            "_dbm                dbm                 mlxtend             socket\n",
            "_decimal            dbus                mmap                socketserver\n",
            "_distutils_hack     debugpy             modulefinder        socks\n",
            "_dlib_pybind11      decimal             more_itertools      sockshandler\n",
            "_dummy_thread       decorator           moviepy             softwareproperties\n",
            "_ecos               defusedxml          mpmath              sortedcontainers\n",
            "_elementtree        deprecat            msgpack             soundfile\n",
            "_functools          descartes           multidict           spacy\n",
            "_hashlib            difflib             multiprocessing     spacy_legacy\n",
            "_heapq              dill                multitasking        spacy_loggers\n",
            "_imp                dis                 murmurhash          sphinx\n",
            "_io                 distributed         music21             spwd\n",
            "_json               distutils           natsort             sql\n",
            "_locale             dlib                nbconvert           sqlalchemy\n",
            "_lsprof             docs                nbformat            sqlite3\n",
            "_lzma               doctest             netCDF4             sqlparse\n",
            "_markupbase         docutils            netrc               sre_compile\n",
            "_md5                dopamine            networkx            sre_constants\n",
            "_multibytecodec     dot_parser          nibabel             sre_parse\n",
            "_multiprocessing    dummy_threading     nis                 srsly\n",
            "_opcode             easydict            nisext              ssl\n",
            "_operator           ecos                nltk                stan\n",
            "_osx_support        editdistance        nntplib             stat\n",
            "_pickle             ee                  notebook            statistics\n",
            "_plotly_future_     email               ntpath              statsmodels\n",
            "_plotly_utils       en_core_web_sm      nturl2path          storemagic\n",
            "_posixsubprocess    encodings           numba               string\n",
            "_py_abc             entrypoints         numbergen           stringprep\n",
            "_pydecimal          enum                numbers             struct\n",
            "_pyio               ephem               numexpr             subprocess\n",
            "_pyrsistent_version erfa                numpy               sunau\n",
            "_pytest             errno               oauth2client        symbol\n",
            "_queue              et_xmlfile          oauthlib            sympy\n",
            "_random             etils               ogr                 sympyprinting\n",
            "_rinterface_cffi_abi fa2                 okgrade             symtable\n",
            "_rinterface_cffi_api fastai              opcode              sys\n",
            "_scs_direct         fastcore            openpyxl            sysconfig\n",
            "_scs_indirect       fastdownload        operator            syslog\n",
            "_sha1               fastdtw             opt_einsum          tables\n",
            "_sha256             fastjsonschema      optparse            tabnanny\n",
            "_sha3               fastprogress        os                  tabulate\n",
            "_sha512             fastrlock           osgeo               tarfile\n",
            "_signal             faulthandler        osqp                tblib\n",
            "_sitebuiltins       fcntl               osqppurepy          telnetlib\n",
            "_socket             feather             osr                 tempfile\n",
            "_soundfile          filecmp             ossaudiodev         tenacity\n",
            "_sqlite3            fileinput           packaging           tensorboard\n",
            "_sre                filelock            palettable          tensorboard_data_server\n",
            "_ssl                firebase_admin      pandas              tensorboard_plugin_wit\n",
            "_stat               fix_yahoo_finance   pandas_datareader   tensorflow\n",
            "_string             flask               pandas_gbq          tensorflow_datasets\n",
            "_strptime           flatbuffers         pandas_profiling    tensorflow_estimator\n",
            "_struct             fnmatch             pandocfilters       tensorflow_gcs_config\n",
            "_symtable           folium              panel               tensorflow_hub\n",
            "_sysconfigdata_m_linux_x86_64-linux-gnu formatter           param               tensorflow_io_gcs_filesystem\n",
            "_sysconfigdata_m_x86_64-linux-gnu fractions           parser              tensorflow_metadata\n",
            "_testbuffer         frozenlist          parso               tensorflow_probability\n",
            "_testcapi           fsspec              partd               termcolor\n",
            "_testimportmultiple ftplib              past                terminado\n",
            "_testmultiphase     functools           pasta               termios\n",
            "_thread             future              pastel              test\n",
            "_threading_local    gast                pathlib             testpath\n",
            "_tkinter            gc                  pathy               tests\n",
            "_tracemalloc        gdal                patsy               text_unidecode\n",
            "_warnings           gdalconst           pdb                 textblob\n",
            "_weakref            gdalnumeric         pep517              textwrap\n",
            "_weakrefset         gdown               pexpect             theano\n",
            "_xxtestfuzz         genericpath         pickle              thinc\n",
            "_yaml               gensim              pickleshare         this\n",
            "abc                 geographiclib       pickletools         threading\n",
            "absl                geopy               pip                 threadpoolctl\n",
            "aifc                getopt              pipes               tifffile\n",
            "aiohttp             getpass             piptools            time\n",
            "aiosignal           gettext             pkg_resources       timeit\n",
            "alabaster           gi                  pkgutil             tkinter\n",
            "albumentations      gin                 platform            tlz\n",
            "altair              glob                plistlib            token\n",
            "antigravity         glob2               plotly              tokenize\n",
            "apiclient           gnm                 plotlywidget        toml\n",
            "appdirs             google_auth_httplib2 plotnine            tomli\n",
            "apt                 google_auth_oauthlib pluggy              toolz\n",
            "apt_inst            google_drive_downloader pooch               torch\n",
            "apt_pkg             googleapiclient     poplib              torchaudio\n",
            "aptsources          googlesearch        portpicker          torchgen\n",
            "argparse            graphviz            posix               torchsummary\n",
            "array               greenlet            posixpath           torchtext\n",
            "arviz               gridfs              pprint              torchvision\n",
            "ast                 grp                 prefetch_generator  tornado\n",
            "astor               grpc                preshed             tqdm\n",
            "astropy             gspread             prettytable         trace\n",
            "astunparse          gspread_dataframe   profile             traceback\n",
            "async_timeout       gym                 progressbar         tracemalloc\n",
            "asynchat            gym_notices         promise             traitlets\n",
            "asyncio             gzip                prompt_toolkit      tree\n",
            "asyncore            h5py                prophet             tty\n",
            "asynctest           hashlib             pstats              turtle\n",
            "atari_py            heapdict            psutil              tweepy\n",
            "atexit              heapq               psycopg2            typeguard\n",
            "atomicwrites        hijri_converter     pty                 typer\n",
            "attr                hmac                ptyprocess          types\n",
            "attrs               holidays            pvectorc            typing\n",
            "audioop             holoviews           pwd                 typing_extensions\n",
            "audioread           html                py                  tzlocal\n",
            "autograd            html5lib            py_compile          ujson\n",
            "autoreload          http                pyarrow             unicodedata\n",
            "babel               httpimport          pyasn1              unittest\n",
            "backcall            httplib2            pyasn1_modules      uritemplate\n",
            "base64              httplib2shim        pyclbr              urllib\n",
            "bdb                 httpstan            pycocotools         urllib3\n",
            "bin                 humanize            pycparser           uu\n",
            "binascii            hyperopt            pyct                uuid\n",
            "binhex              idna                pydantic            vega_datasets\n",
            "bisect              imageio             pydata_google_auth  venv\n",
            "bleach              imagesize           pydoc               vis\n",
            "blis                imaplib             pydoc_data          warnings\n",
            "bokeh               imblearn            pydot               wasabi\n",
            "boost               imgaug              pydot_ng            wave\n",
            "branca              imghdr              pydotplus           wcwidth\n",
            "bs4                 imp                 pydrive             weakref\n",
            "bson                importlib           pyemd               webargs\n",
            "builtins            importlib_metadata  pyexpat             webbrowser\n",
            "bz2                 importlib_resources pygments            webencodings\n",
            "cProfile            imutils             pygtkcompat         werkzeug\n",
            "cachecontrol        inflect             pylab               wheel\n",
            "cached_property     inspect             pylev               widgetsnbextension\n",
            "cachetools          intervaltree        pymc3               wordcloud\n",
            "caffe2              io                  pymeeus             wrapt\n",
            "calendar            ipaddress           pymongo             wsgiref\n",
            "catalogue           ipykernel           pymystem3           xarray\n",
            "certifi             ipykernel_launcher  pyparsing           xarray_einstats\n",
            "cffi                ipython_genutils    pyrsistent          xdrlib\n",
            "cftime              ipywidgets          pysndfile           xgboost\n",
            "cgi                 isympy              pytest              xkit\n",
            "cgitb               itertools           python_utils        xlrd\n",
            "chardet             itsdangerous        pytz                xlwt\n",
            "charset_normalizer  jax                 pyviz_comms         xml\n",
            "chess               jaxlib              pywt                xmlrpc\n",
            "chunk               jieba               pyximport           xxlimited\n",
            "clang               jinja2              qdldl               xxsubtype\n",
            "click               joblib              qudida              yaml\n",
            "client              jpeg4py             queue               yarl\n",
            "clikit              json                quopri              yellowbrick\n",
            "cloudpickle         jsonschema          random              zict\n",
            "cmake               jupyter             re                  zipapp\n",
            "cmath               jupyter_client      readline            zipfile\n",
            "cmd                 jupyter_console     regex               zipimport\n",
            "cmdstanpy           jupyter_core        reprlib             zipp\n",
            "code                jupyterlab_plotly   requests            zlib\n",
            "codecs              jupyterlab_widgets  requests_oauthlib   zmq\n",
            "codeop              kaggle              resampy             \n",
            "colab               kapre               resource            \n",
            "collections         keras               rlcompleter         \n",
            "\n",
            "Enter any module name to get more help.  Or, type \"modules spam\" to search\n",
            "for modules whose name or summary contain the string \"spam\".\n",
            "\n",
            "None\n"
          ]
        },
        {
          "output_type": "stream",
          "name": "stderr",
          "text": [
            "/usr/lib/python3.7/pkgutil.py:107: VisibleDeprecationWarning: zmq.eventloop.minitornado is deprecated in pyzmq 14.0 and will be removed.\n",
            "    Install tornado itself to use zmq with the tornado IOLoop.\n",
            "    \n"
          ]
        }
      ]
    },
    {
      "cell_type": "code",
      "source": [
        "# 'import' keyword to import a module\n",
        "\n",
        "import math;\n",
        "import random;\n",
        "\n",
        "print(random.randint(1 ,10));\n",
        "\n",
        "print(math.ceil(5.78));\n",
        "\n",
        "print(math.ceil(-4.78));\n",
        "\n",
        "print(math.floor(-4.3));\n",
        "\n",
        "print(math.pi);\n",
        "\n",
        "print(math.sqrt(225));\n",
        "\n",
        "my_list = [1,2,3,4,5];\n",
        "random.shuffle(my_list);\n",
        "print(my_list);\n",
        "\n",
        "str1 = \"balloon\"; # not allowed to shuffle\n",
        "\n",
        "str2 = ['A ', 'B' , 'C' ];\n",
        "random.shuffle(str2);\n",
        "print(str2);\n",
        "\n",
        "# time module\n",
        "\n",
        "import time;\n",
        "\n",
        "print(\"time : \" , time.time());\n",
        "\n",
        "print(\"Hello\");\n",
        "time.sleep(2);\n",
        "print(\"World\");\n",
        "\n",
        "# os modules\n",
        "import os;\n",
        "\n",
        "print(os.getcwd());\n",
        "print(os.listdir());"
      ],
      "metadata": {
        "colab": {
          "base_uri": "https://localhost:8080/"
        },
        "id": "iTOuI0mk6p31",
        "outputId": "39f71d72-c418-4440-e00c-539748432eb4"
      },
      "execution_count": null,
      "outputs": [
        {
          "output_type": "stream",
          "name": "stdout",
          "text": [
            "2\n",
            "6\n",
            "-4\n",
            "-5\n",
            "3.141592653589793\n",
            "15.0\n",
            "[3, 4, 5, 1, 2]\n",
            "['C', 'A ', 'B']\n",
            "time :  1661380835.8617668\n",
            "Hello\n",
            "World\n",
            "/content\n",
            "['.config', 'sample_data']\n"
          ]
        }
      ]
    },
    {
      "cell_type": "markdown",
      "source": [
        "\n",
        "\n",
        "---\n",
        "\n"
      ],
      "metadata": {
        "id": "nD7RIf7iLOBr"
      }
    },
    {
      "cell_type": "markdown",
      "source": [
        "**10. Strings**\n",
        "\n",
        "C is systems programming language\n",
        "\n",
        "Java , Python are application programming language (User interaction) hence they have support of strings\n",
        "\n",
        "***Strings are a sequence of UNICODE characters***\n"
      ],
      "metadata": {
        "id": "AfGV0A8pLPa9"
      }
    },
    {
      "cell_type": "code",
      "source": [
        "# Creating\n",
        "str = \"hello\";\n",
        "print(str);"
      ],
      "metadata": {
        "id": "loIDGJR1LU6G",
        "colab": {
          "base_uri": "https://localhost:8080/"
        },
        "outputId": "57887f78-aa54-4071-96d7-4279e56ac28e"
      },
      "execution_count": null,
      "outputs": [
        {
          "output_type": "stream",
          "name": "stdout",
          "text": [
            "hello\n"
          ]
        }
      ]
    },
    {
      "cell_type": "markdown",
      "source": [
        "**INDEXING**\n",
        "\n",
        "* POSITIVE 0 , 1 , 2 , ETC....\n",
        "\n",
        "* NEGATIVE -1 , -2 , -3 , -4 , ETC....."
      ],
      "metadata": {
        "id": "xcQ-pJKrwO1W"
      }
    },
    {
      "cell_type": "code",
      "source": [
        "# postive indexing\n",
        "print(\"\\nPostive Indexing\",str[0] , str[1] , str[2] , str[3] , str[4] );\n",
        "\n",
        "# negative indexing\n",
        "print(\"\\nNegative Indexing: \",str[-1] , str[-2] , str[-3] , str[-4] , str[-5] );"
      ],
      "metadata": {
        "colab": {
          "base_uri": "https://localhost:8080/"
        },
        "id": "mSMFimLrwYaV",
        "outputId": "d895fb42-618b-4738-e966-3973e7b21a60"
      },
      "execution_count": null,
      "outputs": [
        {
          "output_type": "stream",
          "name": "stdout",
          "text": [
            "\n",
            "Postive Indexing h e l l o\n",
            "\n",
            "Negative Indexing:  o l l e h\n"
          ]
        }
      ]
    },
    {
      "cell_type": "markdown",
      "source": [
        "**Slicing**\n"
      ],
      "metadata": {
        "id": "JaH_9FHZxGvq"
      }
    },
    {
      "cell_type": "code",
      "source": [
        "str = \"mountain\";\n",
        "\n",
        "print(str[0:5] , end=\"\\n\\n\");\n",
        "\n",
        "# Obtaining Substring\n",
        "print(\"* Substring from [0 to 2) ->\", str[0:2] , end=\"\\n\\n\");\n",
        "\n",
        "print(\"* Substring from [2nd index : till end ->\",str[2:] , end=\"\\n\\n\");\n",
        "\n",
        "print(\"* Not specifying neither Starting Nor Ending Position ->\" , str[:],end=\"\\n\\n\");\n",
        "\n",
        "# using the STEP\n",
        "print(\"* Step == 2 -> \" , str[::2]); # print entire string just with step 2;\n",
        "# m o u n t a i n\n",
        "# 0 1 2 3 4 5 6 7\n",
        "# 1 0 1 0 1 0 1 0\n",
        "\n",
        "print(\"* \" , str[0:5:3], end=\"\\n\\n\");\n",
        "\n",
        "print(\"* Slicing with Negative Indexing ->\" , )\n"
      ],
      "metadata": {
        "colab": {
          "base_uri": "https://localhost:8080/"
        },
        "id": "2vlIlOGJxEcz",
        "outputId": "451f0923-62dd-4992-a163-1f958972896b"
      },
      "execution_count": null,
      "outputs": [
        {
          "output_type": "stream",
          "name": "stdout",
          "text": [
            "mount\n",
            "\n",
            "* Substring from [0 to 2) -> mo\n",
            "\n",
            "* Substring from [2nd index : till end -> untain\n",
            "\n",
            "* Not specifying neither Starting Nor Ending Position -> mountain\n",
            "\n",
            "* Step == 2 ->  muti\n",
            "*  mn\n"
          ]
        }
      ]
    },
    {
      "cell_type": "code",
      "source": [
        "# REVERSING A STRING\n",
        "\n",
        "str = \"Hello World\";\n",
        "\n",
        "print(str[: : -1]);\n",
        "\n",
        "# or \n",
        "print(str[-1: -12 : -1]);"
      ],
      "metadata": {
        "id": "llqwsXVaKmt7",
        "colab": {
          "base_uri": "https://localhost:8080/"
        },
        "outputId": "6ea1399c-9eb4-4338-82a3-e3b9fcf54245"
      },
      "execution_count": null,
      "outputs": [
        {
          "output_type": "stream",
          "name": "stdout",
          "text": [
            "dlroW olleH\n",
            "dlroW olleH\n"
          ]
        }
      ]
    },
    {
      "cell_type": "markdown",
      "source": [
        "**Editing &  Deleting String**\n",
        "\n",
        "\n",
        "***Strings are IMMUTABLE in python***"
      ],
      "metadata": {
        "id": "G6XHj6zzNc1z"
      }
    },
    {
      "cell_type": "code",
      "source": [
        "str = \"Hello\";\n",
        "\n",
        "str[0] = 'M';"
      ],
      "metadata": {
        "colab": {
          "base_uri": "https://localhost:8080/",
          "height": 200
        },
        "id": "Ti1Bk7HsNfp6",
        "outputId": "af10d7e6-ef9b-4a0e-c402-a36707ff23f7"
      },
      "execution_count": null,
      "outputs": [
        {
          "output_type": "error",
          "ename": "TypeError",
          "evalue": "ignored",
          "traceback": [
            "\u001b[0;31m---------------------------------------------------------------------------\u001b[0m",
            "\u001b[0;31mTypeError\u001b[0m                                 Traceback (most recent call last)",
            "\u001b[0;32m<ipython-input-4-a214fb72e876>\u001b[0m in \u001b[0;36m<module>\u001b[0;34m\u001b[0m\n\u001b[1;32m      1\u001b[0m \u001b[0mstr\u001b[0m \u001b[0;34m=\u001b[0m \u001b[0;34m\"Hello\"\u001b[0m\u001b[0;34m;\u001b[0m\u001b[0;34m\u001b[0m\u001b[0;34m\u001b[0m\u001b[0m\n\u001b[1;32m      2\u001b[0m \u001b[0;34m\u001b[0m\u001b[0m\n\u001b[0;32m----> 3\u001b[0;31m \u001b[0mstr\u001b[0m\u001b[0;34m[\u001b[0m\u001b[0;36m0\u001b[0m\u001b[0;34m]\u001b[0m \u001b[0;34m=\u001b[0m \u001b[0;34m'M'\u001b[0m\u001b[0;34m;\u001b[0m\u001b[0;34m\u001b[0m\u001b[0;34m\u001b[0m\u001b[0m\n\u001b[0m",
            "\u001b[0;31mTypeError\u001b[0m: 'str' object does not support item assignment"
          ]
        }
      ]
    },
    {
      "cell_type": "markdown",
      "source": [
        "*Deletetion of String*\n",
        "\n",
        "\n",
        "To Delete string : **del** string_name"
      ],
      "metadata": {
        "id": "cMxKVBlWN9E_"
      }
    },
    {
      "cell_type": "code",
      "source": [
        "str = \"hello\";\n",
        "\n",
        "del str;\n",
        "\n",
        "print(str);"
      ],
      "metadata": {
        "colab": {
          "base_uri": "https://localhost:8080/"
        },
        "id": "zcdcjACjN7gf",
        "outputId": "b434ccff-5074-4752-a7cf-cd55182ab0d0"
      },
      "execution_count": null,
      "outputs": [
        {
          "output_type": "stream",
          "name": "stdout",
          "text": [
            "<class 'str'>\n"
          ]
        }
      ]
    },
    {
      "cell_type": "markdown",
      "source": [
        "**Operations On Strings**\n",
        "\n",
        "* Arithmetic : \n",
        "concatenation , multiplication\n",
        "\n",
        "* Relational\n",
        "* Logical\n",
        "* Loops\n",
        "* Membership"
      ],
      "metadata": {
        "id": "Nvxsmko9O7gd"
      }
    },
    {
      "cell_type": "code",
      "source": [
        "c = \"Kevin\";\n",
        "c = c + \" Durant\"; # concatenation\n",
        "\n",
        "print(c, end=\"\\n\\n\");\n",
        "\n",
        "#---------------------\n",
        "\n",
        "# string multiplication\n",
        "print(\"*\" * 50);\n",
        "print(\"ball\\n\" * 5);"
      ],
      "metadata": {
        "colab": {
          "base_uri": "https://localhost:8080/"
        },
        "id": "LSWnjFUZO7IX",
        "outputId": "52e70ae5-6760-4cb7-e378-5cf51677106c"
      },
      "execution_count": null,
      "outputs": [
        {
          "output_type": "stream",
          "name": "stdout",
          "text": [
            "Kevin Durant\n",
            "\n",
            "**************************************************\n",
            "ball\n",
            "ball\n",
            "ball\n",
            "ball\n",
            "ball\n",
            "\n"
          ]
        }
      ]
    },
    {
      "cell_type": "markdown",
      "source": [
        "relational operators"
      ],
      "metadata": {
        "id": "3wZOS8DUVKyC"
      }
    },
    {
      "cell_type": "code",
      "source": [
        "print(\"Hello\" != \"World\");"
      ],
      "metadata": {
        "colab": {
          "base_uri": "https://localhost:8080/"
        },
        "id": "Ufry1CXBVJom",
        "outputId": "a2d010b1-8933-4f63-91d7-c333efd488a1"
      },
      "execution_count": null,
      "outputs": [
        {
          "output_type": "stream",
          "name": "stdout",
          "text": [
            "True\n"
          ]
        }
      ]
    },
    {
      "cell_type": "code",
      "source": [
        "print(\"James\" > \"Jack\");\n",
        "print(\"Jack\" > 'Z');\n",
        "# lexicographically checking"
      ],
      "metadata": {
        "colab": {
          "base_uri": "https://localhost:8080/"
        },
        "id": "K48z-btGVQ4C",
        "outputId": "e6cc5ee3-963e-4708-bb11-3827804fdca8"
      },
      "execution_count": null,
      "outputs": [
        {
          "output_type": "stream",
          "name": "stdout",
          "text": [
            "True\n",
            "False\n"
          ]
        }
      ]
    },
    {
      "cell_type": "markdown",
      "source": [
        "logical operations\n",
        "\n",
        "**Empty Strings = FALSE**\n",
        "\n",
        "**Non-Empty String = TRUE**"
      ],
      "metadata": {
        "id": "jEpLuyLuVvMs"
      }
    },
    {
      "cell_type": "code",
      "source": [
        "print(\"1. \",\"\"  and \"Hello\");\n",
        "\n",
        "print(\"2. \",\" \" and \"Hello\");\n",
        "\n",
        "print(\"3. \",\"Hello\" and \"World\");\n",
        "\n",
        "print(\"4. \",\"\" or \"Hello\");\n",
        "\n",
        "print(\"5. \",\" \" or \"Hello\");\n",
        "\n",
        "print(\"6. \",\"Hello\" or \"World\");\n",
        "\n",
        "print(\"7. \" ,not \"Hello\");"
      ],
      "metadata": {
        "colab": {
          "base_uri": "https://localhost:8080/"
        },
        "id": "CO8WvgFmVxCX",
        "outputId": "f8572631-88a5-4f77-c2d2-cec5ac1cf60b"
      },
      "execution_count": null,
      "outputs": [
        {
          "output_type": "stream",
          "name": "stdout",
          "text": [
            "1.  \n",
            "2.  Hello\n",
            "3.  World\n",
            "4.  Hello\n",
            "5.   \n",
            "6.  Hello\n",
            "7.  False\n"
          ]
        }
      ]
    },
    {
      "cell_type": "markdown",
      "source": [
        "Loops"
      ],
      "metadata": {
        "id": "3mnYhfp6fltg"
      }
    },
    {
      "cell_type": "code",
      "source": [
        "str = \"Mountain\";\n",
        "\n",
        "for i in str :\n",
        "  print(i , end=\" \");\n",
        "\n",
        "print();\n",
        "\n",
        "# for iterating over a substring\n",
        "for i in str[4:] :\n",
        "  print(i , end=\" \"); \n",
        "\n",
        "print();\n",
        "\n",
        "for i in str[-1::-2] :\n",
        "  print(i , end=\" \")"
      ],
      "metadata": {
        "colab": {
          "base_uri": "https://localhost:8080/"
        },
        "id": "AyFdlCmJfmzr",
        "outputId": "12524be4-ad4b-4ac0-bcb0-aa117f6f4ad5"
      },
      "execution_count": null,
      "outputs": [
        {
          "output_type": "stream",
          "name": "stdout",
          "text": [
            "M o u n t a i n \n",
            "t a i n \n",
            "n a n o "
          ]
        }
      ]
    },
    {
      "cell_type": "markdown",
      "source": [
        "Membership Operator"
      ],
      "metadata": {
        "id": "nLW7pRzMjwAc"
      }
    },
    {
      "cell_type": "code",
      "source": [
        "print('M' in str);\n",
        "\n",
        "print('N' not in str);\n",
        "\n",
        "print('B' in str);"
      ],
      "metadata": {
        "colab": {
          "base_uri": "https://localhost:8080/"
        },
        "id": "YRaJR84jjxod",
        "outputId": "152015e8-fc3f-4050-d2b5-d620253d1faf"
      },
      "execution_count": null,
      "outputs": [
        {
          "output_type": "stream",
          "name": "stdout",
          "text": [
            "True\n",
            "True\n",
            "False\n"
          ]
        }
      ]
    },
    {
      "cell_type": "markdown",
      "source": [
        "**String Functions**"
      ],
      "metadata": {
        "id": "dx_IxZ91kM7V"
      }
    },
    {
      "cell_type": "markdown",
      "source": [
        "**Common Functions**\n",
        "\n",
        "*   len\n",
        "*   max\n",
        "*   min\n",
        "*   sorted"
      ],
      "metadata": {
        "id": "JCiEf6xBfkMh"
      }
    },
    {
      "cell_type": "markdown",
      "source": [
        "***sorted()*** is a common function but works on a string as well.\n",
        "\n",
        "it sorts the given string on the basis of ASCII values.\n",
        "\n",
        "returns a **list of characters** in sorted array.\n",
        "\n",
        "HIDDEN PARAMETER **\"reverse\" =** False **BY DEFAULT**"
      ],
      "metadata": {
        "id": "mQG7yxTmhIlD"
      }
    },
    {
      "cell_type": "code",
      "source": [
        "# sorted() : sorts according to the ASCII value in ascending order\n",
        "str = \"Hello\";\n",
        "print(sorted(str));\n",
        "\n",
        "# parameter => reverse = True (by default)\n",
        "print(sorted(str , reverse=True));"
      ],
      "metadata": {
        "id": "Suu73GqqkOwt",
        "colab": {
          "base_uri": "https://localhost:8080/"
        },
        "outputId": "7d42f744-05dc-403b-a551-9d938e8d443e"
      },
      "execution_count": null,
      "outputs": [
        {
          "output_type": "stream",
          "name": "stdout",
          "text": [
            "['H', 'e', 'l', 'l', 'o']\n",
            "['o', 'l', 'l', 'e', 'H']\n"
          ]
        }
      ]
    },
    {
      "cell_type": "markdown",
      "source": [
        "* Capitalize : Capitalizes the first    character of the Stirng\n",
        "\n",
        "* Title : **Every Alphabet of First Word** is capitalized and others letters of the word are made LowerCase\n",
        "\n",
        "* Upper : Every Character in String\n",
        "* Lower : Every Character in String\n",
        "* Swapcase : Converts all Lower to Upper &  Vice-versa"
      ],
      "metadata": {
        "id": "OH8mdT4kjGuj"
      }
    },
    {
      "cell_type": "code",
      "source": [
        "# capitalize()\n",
        "\n",
        "c = \"kolkata\";\n",
        "b = \"m\";\n",
        "print(c.capitalize()); # string.capitalize() does not manipulate the original string\n",
        "print(c);\n",
        "print(b.capitalize());"
      ],
      "metadata": {
        "colab": {
          "base_uri": "https://localhost:8080/"
        },
        "id": "HPzArFSfjQWt",
        "outputId": "416dbbe8-c5cc-48bd-8c8b-0edeaaceea72"
      },
      "execution_count": null,
      "outputs": [
        {
          "output_type": "stream",
          "name": "stdout",
          "text": [
            "Kolkata\n",
            "kolkata\n",
            "M\n"
          ]
        }
      ]
    },
    {
      "cell_type": "code",
      "source": [
        "# title\n",
        "\n",
        "str6 = \"it's rainiNG today.\";\n",
        "print(str6.title());"
      ],
      "metadata": {
        "colab": {
          "base_uri": "https://localhost:8080/"
        },
        "id": "0LjQltPtkclL",
        "outputId": "0d0e7cc9-277f-4839-8f8b-2a426e6e2609"
      },
      "execution_count": null,
      "outputs": [
        {
          "output_type": "stream",
          "name": "stdout",
          "text": [
            "It'S Raining Today.\n"
          ]
        }
      ]
    },
    {
      "cell_type": "code",
      "source": [
        "print(str6.upper());\n",
        "print(str6.lower());"
      ],
      "metadata": {
        "colab": {
          "base_uri": "https://localhost:8080/"
        },
        "id": "KX5ZBCJVk0P4",
        "outputId": "990ece76-a50e-45a1-8d4a-a1599b35b908"
      },
      "execution_count": null,
      "outputs": [
        {
          "output_type": "stream",
          "name": "stdout",
          "text": [
            "IT'S RAINING TODAY.\n",
            "it's raining today.\n"
          ]
        }
      ]
    },
    {
      "cell_type": "code",
      "source": [
        "print(\"KOlKatA\".swapcase());"
      ],
      "metadata": {
        "colab": {
          "base_uri": "https://localhost:8080/"
        },
        "id": "FEwkFXellYb_",
        "outputId": "d1e3e5f0-77df-4bd8-db8a-83ad0c521df6"
      },
      "execution_count": null,
      "outputs": [
        {
          "output_type": "stream",
          "name": "stdout",
          "text": [
            "koLkATa\n"
          ]
        }
      ]
    },
    {
      "cell_type": "markdown",
      "source": [
        "***count()*** : counts the frequency of a SubString"
      ],
      "metadata": {
        "id": "6S03XmyQlwzj"
      }
    },
    {
      "cell_type": "code",
      "source": [
        "str7 = \"hello hell helicpoter\";\n",
        "\n",
        "print(\"count of  'h' :\" , str7.count(\"h\"));\n",
        "\n",
        "print(\"count of 'hel' :\" , str7.count(\"hel\"));\n",
        "\n",
        "print(\"count of 'man' : \" , str7.count(\"man\"));"
      ],
      "metadata": {
        "colab": {
          "base_uri": "https://localhost:8080/"
        },
        "id": "GGObwA7ol-Dy",
        "outputId": "a7cb8c74-4e30-4724-cee0-c0b9cf364012"
      },
      "execution_count": null,
      "outputs": [
        {
          "output_type": "stream",
          "name": "stdout",
          "text": [
            "count of  'h' : 3\n",
            "count of 'hel' : 3\n",
            "count of 'man' :  0\n"
          ]
        }
      ]
    },
    {
      "cell_type": "markdown",
      "source": [
        "**Find / Index** : returns the position/index of the given substring"
      ],
      "metadata": {
        "id": "sBvGA8Sjpp47"
      }
    },
    {
      "cell_type": "code",
      "source": [
        "str7 = \"it is raining\";\n",
        "print(str7.index(\"i\")); # returns first occurence\n",
        "print(str7.find(\"x\")); # if substring not present in string => return -1\n",
        "\n",
        "# index() returns Exception if substring NOT FOUND\n",
        "# find() returns -1 if String NOT FOUND"
      ],
      "metadata": {
        "colab": {
          "base_uri": "https://localhost:8080/"
        },
        "id": "x5QEfXpmqANc",
        "outputId": "af2bdef5-b36b-4488-f107-457a6ff79372"
      },
      "execution_count": null,
      "outputs": [
        {
          "output_type": "stream",
          "name": "stdout",
          "text": [
            "0\n",
            "-1\n"
          ]
        }
      ]
    },
    {
      "cell_type": "markdown",
      "source": [
        "String **endswith / startswith** : returns TRUE / FALSE"
      ],
      "metadata": {
        "id": "2kyfoQKPrHul"
      }
    },
    {
      "cell_type": "code",
      "source": [
        "str7 = \"it is raining\";\n",
        "\n",
        "print(str7.endswith(\"ing\"));\n",
        "\n",
        "print(str7.endswith(\"hello\"))"
      ],
      "metadata": {
        "colab": {
          "base_uri": "https://localhost:8080/"
        },
        "id": "wKkqxn_Aq1k7",
        "outputId": "199cecc1-4b01-4aec-b0d2-5c4b122fd59e"
      },
      "execution_count": null,
      "outputs": [
        {
          "output_type": "stream",
          "name": "stdout",
          "text": [
            "True\n",
            "False\n"
          ]
        }
      ]
    },
    {
      "cell_type": "markdown",
      "source": [
        "**format()**"
      ],
      "metadata": {
        "id": "8bAsy8ExsGQq"
      }
    },
    {
      "cell_type": "code",
      "source": [
        "myName = \"Nishant\"\n",
        "myAge = 21;\n",
        "\n",
        "\n",
        "str8 = \"Hello my name is {name}. I'm {age} years old.\";\n",
        " \n",
        "print(str8.format(name = myName , age = myAge));\n",
        "\n",
        "# or\n",
        "\n",
        "str9 = \"your name is {0}. your age is {1}.\";\n",
        "print(str9.format(\"kevin\" , 33)); # formatted according to ARGUMENT INDEX\n",
        "print(str9.format(33 , \"kevin\"));"
      ],
      "metadata": {
        "colab": {
          "base_uri": "https://localhost:8080/"
        },
        "id": "2AOKOmc9su9k",
        "outputId": "50f8e2e7-ba89-4e3b-9e41-3a4df7381a39"
      },
      "execution_count": null,
      "outputs": [
        {
          "output_type": "stream",
          "name": "stdout",
          "text": [
            "Hello my name is Nishant. I'm 21 years old.\n",
            "your name is kevin. your age is 33.\n",
            "your name is 33. your age is kevin.\n"
          ]
        }
      ]
    },
    {
      "cell_type": "markdown",
      "source": [
        "**isalnum(alpha-numeric only) / isalpha / isdecimal / isdigit / isidentifier**"
      ],
      "metadata": {
        "id": "YMFPGzwSu29D"
      }
    },
    {
      "cell_type": "code",
      "source": [
        "# isalnum() - ALPHANUMERIC ONLY!\n",
        "print(\"FLAT20\".isalnum());\n",
        "print(\"FLAT20%\".isalnum());"
      ],
      "metadata": {
        "colab": {
          "base_uri": "https://localhost:8080/"
        },
        "id": "Tm-ot8oQvAs6",
        "outputId": "a849cddc-39f9-415f-f661-8bd7ab6b1448"
      },
      "execution_count": null,
      "outputs": [
        {
          "output_type": "stream",
          "name": "stdout",
          "text": [
            "True\n",
            "False\n"
          ]
        }
      ]
    },
    {
      "cell_type": "code",
      "source": [
        "#isalpha() - ALPHABETICAL\n",
        "print(\"ABCD\".isalpha());\n",
        "print(\"ABCD123\".isalpha());"
      ],
      "metadata": {
        "colab": {
          "base_uri": "https://localhost:8080/"
        },
        "id": "3exZUgQOvfOO",
        "outputId": "4c66711b-cc69-4bbe-e1c0-418882021818"
      },
      "execution_count": null,
      "outputs": [
        {
          "output_type": "stream",
          "name": "stdout",
          "text": [
            "True\n",
            "False\n"
          ]
        }
      ]
    },
    {
      "cell_type": "code",
      "source": [
        "#isidentifier()\n",
        "print(\"hello_world\".isidentifier());\n",
        "print(\"$myName\".isidentifier());\n",
        "print(\"12name12\".isidentifier());\n",
        "print(\"name12\".isidentifier());\n",
        "print(\"_name12\".isidentifier());\n"
      ],
      "metadata": {
        "colab": {
          "base_uri": "https://localhost:8080/"
        },
        "id": "oeq398JfwmJg",
        "outputId": "2e1c04d1-2e44-46f4-c97c-23cca2b1991b"
      },
      "execution_count": null,
      "outputs": [
        {
          "output_type": "stream",
          "name": "stdout",
          "text": [
            "True\n",
            "False\n",
            "False\n",
            "True\n",
            "True\n"
          ]
        }
      ]
    },
    {
      "cell_type": "markdown",
      "source": [
        "**split()** : converts the list into string\n"
      ],
      "metadata": {
        "id": "pyWFh1uLxK1Z"
      }
    },
    {
      "cell_type": "code",
      "source": [
        "str9 = \"this is show time\";\n",
        "print(str9.split()); # converts string to List"
      ],
      "metadata": {
        "colab": {
          "base_uri": "https://localhost:8080/"
        },
        "id": "gCFtxDalxYjL",
        "outputId": "a3d7c737-bd31-4eec-cdd3-34aa80a58209"
      },
      "execution_count": null,
      "outputs": [
        {
          "output_type": "stream",
          "name": "stdout",
          "text": [
            "['this', 'is', 'show', 'time']\n"
          ]
        }
      ]
    },
    {
      "cell_type": "code",
      "source": [
        "print(str9.split('i'));"
      ],
      "metadata": {
        "colab": {
          "base_uri": "https://localhost:8080/"
        },
        "id": "ayp6XRFHxyZk",
        "outputId": "ff1ab3ec-c9c0-4679-91a2-d59504ac7c83"
      },
      "execution_count": null,
      "outputs": [
        {
          "output_type": "stream",
          "name": "stdout",
          "text": [
            "['th', 's ', 's show t', 'me']\n"
          ]
        }
      ]
    },
    {
      "cell_type": "code",
      "source": [
        "print(str9.split('z')); # 'z' not present...\n",
        "# will return original string."
      ],
      "metadata": {
        "colab": {
          "base_uri": "https://localhost:8080/"
        },
        "id": "Nbokx0TWx62i",
        "outputId": "45f8c554-a1fe-46d7-9d8b-59a3e64d6dd4"
      },
      "execution_count": null,
      "outputs": [
        {
          "output_type": "stream",
          "name": "stdout",
          "text": [
            "['this is show time']\n"
          ]
        }
      ]
    },
    {
      "cell_type": "markdown",
      "source": [
        "**join()** : converts list to string"
      ],
      "metadata": {
        "id": "uYEtURIiyTVE"
      }
    },
    {
      "cell_type": "code",
      "source": [
        "array = ['h', 'e' , 'l' , 'l' , 'o'];\n",
        "print(\"\".join(array)); # \"\" using for joining\n",
        "\n",
        "print(\"/\".join(array)); # \"/\" using for joining\n",
        "\n",
        "print(\" \".join(array));"
      ],
      "metadata": {
        "colab": {
          "base_uri": "https://localhost:8080/"
        },
        "id": "a_DJleOWGa8z",
        "outputId": "61b43ada-a235-49eb-fb34-199bbab4ab47"
      },
      "execution_count": null,
      "outputs": [
        {
          "output_type": "stream",
          "name": "stdout",
          "text": [
            "hello\n",
            "h/e/l/l/o\n",
            "h e l l o\n"
          ]
        }
      ]
    },
    {
      "cell_type": "markdown",
      "source": [
        "**replace()** : replace a substring with another one.\n",
        "\n",
        "***str.replace(what to replace , the replacement);***\n",
        "\n",
        "> DOES **NOT** MANIPULATE THE ENTIRE STRING\n",
        "\n"
      ],
      "metadata": {
        "id": "1rBXwv5lHxyj"
      }
    },
    {
      "cell_type": "code",
      "source": [
        "str9 = \"Hello my name is James\";\n",
        "\n",
        "print(str9.replace(\"James\" , \"Kevin\"));\n",
        "\n",
        "print(str9);\n",
        "\n",
        "print(str9.replace(\"Hello my name is \" , \"I'm \"));\n",
        "\n",
        "print(str9.replace(\"zo\" , \"I'm \"));"
      ],
      "metadata": {
        "colab": {
          "base_uri": "https://localhost:8080/"
        },
        "id": "sEyRZ5PBHseZ",
        "outputId": "03cb1770-b7ef-4a3c-8571-cbf54e604de9"
      },
      "execution_count": null,
      "outputs": [
        {
          "output_type": "stream",
          "name": "stdout",
          "text": [
            "Hello my name is Kevin\n",
            "Hello my name is James\n",
            "I'm James\n",
            "Hello my name is James\n"
          ]
        }
      ]
    },
    {
      "cell_type": "markdown",
      "source": [
        "**strip()**: \n",
        "trims leading and trailing spaces"
      ],
      "metadata": {
        "id": "WITp5dcRI_E6"
      }
    },
    {
      "cell_type": "markdown",
      "source": [
        "\n",
        "\n",
        "---\n",
        "\n"
      ],
      "metadata": {
        "id": "s2g5bGOqPlkA"
      }
    },
    {
      "cell_type": "markdown",
      "source": [
        "**List**\n",
        "\n",
        "* list does not have contiguous memory allocation\n",
        "\n",
        "* list are hetrogenous\n",
        "\n",
        "* list also supports NEGATIVE INDEXING\n",
        "\n",
        "* list are mutable"
      ],
      "metadata": {
        "id": "t0RQMtHUPmnL"
      }
    },
    {
      "cell_type": "code",
      "source": [
        "# 2D LIST\n",
        "l1 = [1 ,2 , [3 , 4]];\n",
        "print(l1);"
      ],
      "metadata": {
        "colab": {
          "base_uri": "https://localhost:8080/"
        },
        "id": "w52MtvKYhQh9",
        "outputId": "5c8e642f-3959-45ff-87e5-dd25c0a575cd"
      },
      "execution_count": null,
      "outputs": [
        {
          "output_type": "stream",
          "name": "stdout",
          "text": [
            "[1, 2, [3, 4]]\n"
          ]
        }
      ]
    },
    {
      "cell_type": "code",
      "source": [
        "l2 = [ 1 , 2 , 3 , 4 , 5 ];\n",
        "\n",
        "# accessing a list\n",
        "print(l2[-1]);\n",
        "\n",
        "print(l2[0]);\n",
        "\n",
        "# 2D List\n",
        "l3 = [10 , 20 , [ 30 , 40 ]];\n",
        "print(l3[2][0]);\n",
        "\n",
        "# 3D List\n",
        "l4 = [ [ [1,2] , [3,4] ] , [ [5,6] , [7,8] ] ];\n",
        "print(l4[0][0][0]);"
      ],
      "metadata": {
        "colab": {
          "base_uri": "https://localhost:8080/"
        },
        "id": "YFl5Hiklhx9G",
        "outputId": "683e7db3-b69c-4ea3-d33e-b5d28f6993e8"
      },
      "execution_count": null,
      "outputs": [
        {
          "output_type": "stream",
          "name": "stdout",
          "text": [
            "5\n",
            "1\n",
            "30\n",
            "1\n"
          ]
        }
      ]
    },
    {
      "cell_type": "markdown",
      "source": [
        "***editing***"
      ],
      "metadata": {
        "id": "w3wrL_QWmwcs"
      }
    },
    {
      "cell_type": "code",
      "source": [
        "l2 = [ 1 , 2 , 3 , 4 , 5 ];\n",
        "l2[0] = 100;\n",
        "\n",
        "print(l2);"
      ],
      "metadata": {
        "colab": {
          "base_uri": "https://localhost:8080/"
        },
        "id": "hRZmXqC1mzxp",
        "outputId": "5075c90a-2ffa-4f9d-873a-a6c47e228a03"
      },
      "execution_count": null,
      "outputs": [
        {
          "output_type": "stream",
          "name": "stdout",
          "text": [
            "[100, 2, 3, 4, 5]\n"
          ]
        }
      ]
    },
    {
      "cell_type": "markdown",
      "source": [
        "***slice on a list***"
      ],
      "metadata": {
        "id": "rtKdqu80m-m9"
      }
    },
    {
      "cell_type": "code",
      "source": [
        "l2[0::2]"
      ],
      "metadata": {
        "colab": {
          "base_uri": "https://localhost:8080/"
        },
        "id": "j5x1yzJPm9bd",
        "outputId": "fe3e4159-1666-45ec-81b7-93f17b5abd3c"
      },
      "execution_count": null,
      "outputs": [
        {
          "output_type": "execute_result",
          "data": {
            "text/plain": [
              "[100, 3, 5]"
            ]
          },
          "metadata": {},
          "execution_count": 25
        }
      ]
    },
    {
      "cell_type": "markdown",
      "source": [
        "STRINGS ARE NOT MUTABLE IN PYTHON"
      ],
      "metadata": {
        "id": "1QRQKqWNnOhH"
      }
    },
    {
      "cell_type": "code",
      "source": [
        "str = \"MyString\";\n",
        "str[0]='m';"
      ],
      "metadata": {
        "colab": {
          "base_uri": "https://localhost:8080/",
          "height": 182
        },
        "id": "_rqenPPUnN7H",
        "outputId": "6918d346-ce4a-487b-b90a-e618e60ba183"
      },
      "execution_count": null,
      "outputs": [
        {
          "output_type": "error",
          "ename": "TypeError",
          "evalue": "ignored",
          "traceback": [
            "\u001b[0;31m---------------------------------------------------------------------------\u001b[0m",
            "\u001b[0;31mTypeError\u001b[0m                                 Traceback (most recent call last)",
            "\u001b[0;32m<ipython-input-27-bc53bcb21d51>\u001b[0m in \u001b[0;36m<module>\u001b[0;34m\u001b[0m\n\u001b[1;32m      1\u001b[0m \u001b[0mstr\u001b[0m \u001b[0;34m=\u001b[0m \u001b[0;34m\"MyString\"\u001b[0m\u001b[0;34m;\u001b[0m\u001b[0;34m\u001b[0m\u001b[0;34m\u001b[0m\u001b[0m\n\u001b[0;32m----> 2\u001b[0;31m \u001b[0mstr\u001b[0m\u001b[0;34m[\u001b[0m\u001b[0;36m0\u001b[0m\u001b[0;34m]\u001b[0m\u001b[0;34m=\u001b[0m\u001b[0;34m'm'\u001b[0m\u001b[0;34m;\u001b[0m\u001b[0;34m\u001b[0m\u001b[0;34m\u001b[0m\u001b[0m\n\u001b[0m",
            "\u001b[0;31mTypeError\u001b[0m: 'str' object does not support item assignment"
          ]
        }
      ]
    },
    {
      "cell_type": "markdown",
      "source": [
        "**ADD**\n",
        "* append : adds only one items at a time\n",
        "\n",
        "* extend : helps to append multiple items at one time\n",
        "\n",
        "* insert : ***list.insert(index , object)***"
      ],
      "metadata": {
        "id": "dfeHk_u5ncjI"
      }
    },
    {
      "cell_type": "code",
      "source": [
        "l2 = [ 1 , 2 , 3 , 4 , 5 ];\n",
        "l2.append(1001); # adds the object At Last\n",
        "print(l2);"
      ],
      "metadata": {
        "colab": {
          "base_uri": "https://localhost:8080/"
        },
        "id": "AVIMxIQnnZBb",
        "outputId": "fa43c2de-716d-40cd-8695-c525d0e9f05a"
      },
      "execution_count": null,
      "outputs": [
        {
          "output_type": "stream",
          "name": "stdout",
          "text": [
            "[1, 2, 3, 4, 5, 1001]\n"
          ]
        }
      ]
    },
    {
      "cell_type": "code",
      "source": [
        "l2.extend([2001 , 2002, \"Russel Wilson\"]);\n",
        "print(l2);\n",
        "\n",
        "l2.extend(\"goa\");\n",
        "print(\"converts the string into a list of characters and then Appends \" , l2);"
      ],
      "metadata": {
        "colab": {
          "base_uri": "https://localhost:8080/"
        },
        "id": "gH42HhbIn1_C",
        "outputId": "bf6b715b-2510-4a04-99f2-2a0f79c98864"
      },
      "execution_count": null,
      "outputs": [
        {
          "output_type": "stream",
          "name": "stdout",
          "text": [
            "[1, 2, 3, 4, 5, 1001, 2001, 2002, 'Russel Wilson', 2001, 2002, 'Russel Wilson', 2001, 2002, 'Russel Wilson']\n",
            "converts the string into a list of characters and then Appends  [1, 2, 3, 4, 5, 1001, 2001, 2002, 'Russel Wilson', 2001, 2002, 'Russel Wilson', 2001, 2002, 'Russel Wilson', 'g', 'o', 'a']\n"
          ]
        }
      ]
    },
    {
      "cell_type": "code",
      "source": [
        "l2.insert(2 , \"object@2\");\n",
        "print(l2);"
      ],
      "metadata": {
        "colab": {
          "base_uri": "https://localhost:8080/"
        },
        "id": "rU1Fe3ltClhU",
        "outputId": "9978fdb0-e223-4cf8-d6ed-c61426e60980"
      },
      "execution_count": null,
      "outputs": [
        {
          "output_type": "stream",
          "name": "stdout",
          "text": [
            "[1, 2, 'object@2', 'object@2', 'object@2', 3, 4, 5, 1001, 2001, 2002, 'Russel Wilson', 2001, 2002, 'Russel Wilson', 2001, 2002, 'Russel Wilson', 'g', 'o', 'a']\n"
          ]
        }
      ]
    },
    {
      "cell_type": "markdown",
      "source": [
        "**deletion**\n",
        "\n",
        "* del : ***del list[index]***\n",
        "* remove : ***list.remove(object)***\n",
        "* pop : always removes the last object\n",
        "* clear : clears the List"
      ],
      "metadata": {
        "id": "VvkNKRPpMyo5"
      }
    },
    {
      "cell_type": "code",
      "source": [
        "# del\n",
        "l2 = [1 , 2, 3 ,4 ,5 ,6];\n",
        "del l2[0];\n",
        "del l2[-1]\n",
        "print(\"del \",l2);\n",
        "\n",
        "# remove\n",
        "l2.remove(4);\n",
        "print(\"remove \",l2);\n",
        "\n",
        "#pop\n",
        "l2.pop();\n",
        "print(\"pop \" , l2);\n",
        "\n",
        "#clear : empties the list\n",
        "l2.clear();\n",
        "print(\"clear \",l2);"
      ],
      "metadata": {
        "colab": {
          "base_uri": "https://localhost:8080/"
        },
        "id": "v9-f0cnoM4z9",
        "outputId": "c2f919f8-30c7-4bf6-8683-8f1fa31986bb"
      },
      "execution_count": null,
      "outputs": [
        {
          "output_type": "stream",
          "name": "stdout",
          "text": [
            "del  [2, 3, 4, 5]\n",
            "remove  [2, 3, 5]\n",
            "pop  [2, 3]\n",
            "clear  []\n"
          ]
        }
      ]
    },
    {
      "cell_type": "markdown",
      "source": [
        "**operations**"
      ],
      "metadata": {
        "id": "l7PS_-O1ODkp"
      }
    },
    {
      "cell_type": "code",
      "source": [
        "l1 = [1 ,2 ,4];\n",
        "l2 = [3 , 5 , 6];\n",
        "\n",
        "l3 = l1 + l2; # adding 2 List\n",
        "print(l3);\n",
        "\n",
        "# list * 3 => every element of the list will occur x times\n",
        "print(l3*3); # DOES NOT manipulate the original list...\n",
        "              # returns A NEW LIST\n",
        "\n",
        "# traversing a list\n",
        "for i in l3:\n",
        "  print(i , end=\" \");\n",
        "print();\n",
        "\n",
        "l3.extend([[100 , 200]]);\n",
        "print(l3);\n",
        "\n",
        "# membership operator\n",
        "print(200 in l3);"
      ],
      "metadata": {
        "colab": {
          "base_uri": "https://localhost:8080/"
        },
        "id": "FqHed66KOIRL",
        "outputId": "870dac45-0bce-42ad-fa8d-310531ac0aa1"
      },
      "execution_count": null,
      "outputs": [
        {
          "output_type": "stream",
          "name": "stdout",
          "text": [
            "[1, 2, 4, 3, 5, 6]\n",
            "[1, 2, 4, 3, 5, 6, 1, 2, 4, 3, 5, 6, 1, 2, 4, 3, 5, 6]\n",
            "1 2 4 3 5 6 \n",
            "[1, 2, 4, 3, 5, 6, [100, 200]]\n",
            "False\n"
          ]
        }
      ]
    },
    {
      "cell_type": "markdown",
      "source": [
        "**functions in a List**\n"
      ],
      "metadata": {
        "id": "uQP4AxQgPn9I"
      }
    },
    {
      "cell_type": "code",
      "source": [
        "# obtain length\n",
        "print(\"len \" , len(l3));\n",
        "\n",
        "# print(l3);\n",
        "# minimum element\n",
        "print(\"min \", min(l3[0:6]));\n",
        "\n",
        "print(\"max \" , max(l3[0:6]));\n",
        "\n",
        "# sorted : it's not a permanent operation.IT GENERATES A NEW LIST\n",
        "print(\"sorted() \" ,sorted(l3[0:6] , reverse=True));\n",
        "\n",
        "l3 = [6 , 7 , 1 , 3, 4 , 110 , 0 , -2];\n",
        "\n",
        "## sort() : ITS A PERMANENT OPERATION .... MODIFIES THE LIST\n",
        "l3.sort();\n",
        "print(\"sort() \" , l3);"
      ],
      "metadata": {
        "colab": {
          "base_uri": "https://localhost:8080/"
        },
        "id": "phC_aAtfPr7B",
        "outputId": "f31478cf-d06b-4a69-ec6e-e9dc6a9bca00"
      },
      "execution_count": null,
      "outputs": [
        {
          "output_type": "stream",
          "name": "stdout",
          "text": [
            "len  8\n",
            "min  -2\n",
            "max  6\n",
            "sorted()  [6, 4, 3, 1, 0, -2]\n",
            "sort()  [-2, 0, 1, 3, 4, 6, 7, 110]\n"
          ]
        }
      ]
    },
    {
      "cell_type": "markdown",
      "source": [
        "**SORTED VS SORT**\n",
        "\n",
        "> SORT() : ***MODIFIES THE LIST***\n",
        "\n",
        "> SOERTED() : ***DOES NOT MODIFIES THE LIST***"
      ],
      "metadata": {
        "id": "EqvVT3CARcZB"
      }
    },
    {
      "cell_type": "markdown",
      "source": [
        "\n",
        "\n",
        "---\n",
        "\n"
      ],
      "metadata": {
        "id": "QVGN4XJ1Tdtk"
      }
    },
    {
      "cell_type": "markdown",
      "source": [
        "**TUPLES** are READ-ONLY data types\n",
        "\n",
        "***tuples => ( )***"
      ],
      "metadata": {
        "id": "LzS5LY2WTewe"
      }
    },
    {
      "cell_type": "markdown",
      "source": [
        "***Single Item Tuple***\n",
        "\n",
        "T3 = (object**,**);  // Comma Is A Must //"
      ],
      "metadata": {
        "id": "hMpzjqycThfv"
      }
    },
    {
      "cell_type": "code",
      "source": [
        "T1 = (1); # cannot be a tuple\n",
        "print(type(T1));\n",
        "\n",
        "# to form / define a Single Item Tuple \n",
        "T2 = (\"Hello\" , );\n",
        "print(type(T2));"
      ],
      "metadata": {
        "colab": {
          "base_uri": "https://localhost:8080/"
        },
        "id": "L93y3iGTUGHL",
        "outputId": "94eaefd0-640d-441d-89ac-db15e1cdbe7a"
      },
      "execution_count": null,
      "outputs": [
        {
          "output_type": "stream",
          "name": "stdout",
          "text": [
            "<class 'int'>\n",
            "<class 'tuple'>\n"
          ]
        }
      ]
    },
    {
      "cell_type": "markdown",
      "source": [
        "***tuple()*** To Create A Tuple"
      ],
      "metadata": {
        "id": "URh9DwPfVB10"
      }
    },
    {
      "cell_type": "markdown",
      "source": [
        "**ACCESSING ELEMENTS OF A TUPLE IS SAME AS THAT OF LISTS.**"
      ],
      "metadata": {
        "id": "XAoHqNNBf9po"
      }
    },
    {
      "cell_type": "code",
      "source": [
        "# accessing elements in tuple\n",
        "\n",
        "T2 = (1 ,2 , 3 , 4 , 5 , (10 , 20));\n",
        "print(T2[0]);\n",
        "print(T2[0:4]);\n",
        "print(T2[-1]);"
      ],
      "metadata": {
        "colab": {
          "base_uri": "https://localhost:8080/"
        },
        "id": "odnw1qUZgExL",
        "outputId": "59fd8b0c-7c33-4c60-c274-bd35b2cf85d1"
      },
      "execution_count": null,
      "outputs": [
        {
          "output_type": "stream",
          "name": "stdout",
          "text": [
            "1\n",
            "(1, 2, 3, 4)\n",
            "(10, 20)\n"
          ]
        }
      ]
    },
    {
      "cell_type": "markdown",
      "source": [
        "***TUPLE DOES NOT SUPPORT EDITING***\n",
        "\n",
        "\n",
        "\n",
        "**TUPLES ARE IMMUTABLE***\n",
        "\n",
        "* **Cannot** ADD\n",
        "* **Cannot** DELETE\n"
      ],
      "metadata": {
        "id": "eptaTBfkge8a"
      }
    },
    {
      "cell_type": "code",
      "source": [
        "print(T2.sort());"
      ],
      "metadata": {
        "colab": {
          "base_uri": "https://localhost:8080/",
          "height": 165
        },
        "id": "SAZsmqNLhLeX",
        "outputId": "5ee743c4-8aa6-433f-97e7-5f50893a938c"
      },
      "execution_count": null,
      "outputs": [
        {
          "output_type": "error",
          "ename": "AttributeError",
          "evalue": "ignored",
          "traceback": [
            "\u001b[0;31m---------------------------------------------------------------------------\u001b[0m",
            "\u001b[0;31mAttributeError\u001b[0m                            Traceback (most recent call last)",
            "\u001b[0;32m<ipython-input-75-e932dbe355ec>\u001b[0m in \u001b[0;36m<module>\u001b[0;34m\u001b[0m\n\u001b[0;32m----> 1\u001b[0;31m \u001b[0mprint\u001b[0m\u001b[0;34m(\u001b[0m\u001b[0mT2\u001b[0m\u001b[0;34m.\u001b[0m\u001b[0msort\u001b[0m\u001b[0;34m(\u001b[0m\u001b[0;34m)\u001b[0m\u001b[0;34m)\u001b[0m\u001b[0;34m;\u001b[0m\u001b[0;34m\u001b[0m\u001b[0;34m\u001b[0m\u001b[0m\n\u001b[0m",
            "\u001b[0;31mAttributeError\u001b[0m: 'tuple' object has no attribute 'sort'"
          ]
        }
      ]
    },
    {
      "cell_type": "markdown",
      "source": [
        "**CANNOT APPLY ***sort()*** ON TUPLES , since IT MODIFIES THE TUPLE**\n"
      ],
      "metadata": {
        "id": "zeUm1KiChP3o"
      }
    },
    {
      "cell_type": "markdown",
      "source": [
        "---"
      ],
      "metadata": {
        "id": "J9JHGR4UhuCK"
      }
    },
    {
      "cell_type": "markdown",
      "source": [
        "**SETS** \n",
        "\n",
        "sets => { }"
      ],
      "metadata": {
        "id": "Vwq9oHKXkPy0"
      }
    },
    {
      "cell_type": "markdown",
      "source": [
        "\n",
        "\n",
        "1.   DO NOT Allow Duplicates\n",
        "\n",
        "2.   Sets Have No INDEXING / Slicing\n",
        "\n",
        "3.   Sets Dont Allow Mutable Data Types(linke list)\n",
        "\n",
        "4.   Set Itself IS - A MUTABLE DATA TYPE\n",
        "therefore 2d , 3d , .... sets not possible\n",
        "\n",
        "5. Sets also SUPPORT Hetrogeneous Data Type\n"
      ],
      "metadata": {
        "id": "02-HKOCLkS4A"
      }
    },
    {
      "cell_type": "markdown",
      "source": [
        "***To Create An Empty Set***\n",
        "\n",
        "SYNTAX :- mySet = set();"
      ],
      "metadata": {
        "id": "nKsfpRJ1lCp0"
      }
    },
    {
      "cell_type": "code",
      "source": [
        "S1 = {}; # this code will NOT create an Empty Set\n",
        "print(type(S1));\n",
        "\n",
        "S1 = set(); # this code creates an empty set\n",
        "print(type(S1));\n",
        "\n",
        "# S1 = tuple();\n",
        "# print(type(S1));\n",
        "\n",
        "S1 = {1 , 2 , 3, 4 , 4 ,5}; # does not inserts DUPLICATES\n",
        "print(S1);"
      ],
      "metadata": {
        "colab": {
          "base_uri": "https://localhost:8080/"
        },
        "id": "SEoISoC6lHyt",
        "outputId": "4b45b0b8-7393-466d-ad40-10b15987b5a7"
      },
      "execution_count": null,
      "outputs": [
        {
          "output_type": "stream",
          "name": "stdout",
          "text": [
            "<class 'dict'>\n",
            "<class 'set'>\n",
            "{1, 2, 3, 4, 5}\n"
          ]
        }
      ]
    },
    {
      "cell_type": "markdown",
      "source": [
        "**NO MUTABLE DATA TYPES ALLOWED!!!**"
      ],
      "metadata": {
        "id": "RSTGeehXI-vp"
      }
    },
    {
      "cell_type": "code",
      "source": [
        "S2 = {[1,2,3] , \"HELLO\"};\n"
      ],
      "metadata": {
        "colab": {
          "base_uri": "https://localhost:8080/",
          "height": 165
        },
        "id": "z9SSFdrCI-Re",
        "outputId": "587d2c77-cf27-43cb-8a66-fcaf81dd4b34"
      },
      "execution_count": null,
      "outputs": [
        {
          "output_type": "error",
          "ename": "TypeError",
          "evalue": "ignored",
          "traceback": [
            "\u001b[0;31m---------------------------------------------------------------------------\u001b[0m",
            "\u001b[0;31mTypeError\u001b[0m                                 Traceback (most recent call last)",
            "\u001b[0;32m<ipython-input-1-b92fc092e43d>\u001b[0m in \u001b[0;36m<module>\u001b[0;34m\u001b[0m\n\u001b[0;32m----> 1\u001b[0;31m \u001b[0mS2\u001b[0m \u001b[0;34m=\u001b[0m \u001b[0;34m{\u001b[0m\u001b[0;34m[\u001b[0m\u001b[0;36m1\u001b[0m\u001b[0;34m,\u001b[0m\u001b[0;36m2\u001b[0m\u001b[0;34m,\u001b[0m\u001b[0;36m3\u001b[0m\u001b[0;34m]\u001b[0m \u001b[0;34m,\u001b[0m \u001b[0;34m\"HELLO\"\u001b[0m\u001b[0;34m}\u001b[0m\u001b[0;34m;\u001b[0m\u001b[0;34m\u001b[0m\u001b[0;34m\u001b[0m\u001b[0m\n\u001b[0m",
            "\u001b[0;31mTypeError\u001b[0m: unhashable type: 'list'"
          ]
        }
      ]
    },
    {
      "cell_type": "markdown",
      "source": [
        "INSTEAD OF **LIST** USE **TUPLES**"
      ],
      "metadata": {
        "id": "asyUfcNFJMSi"
      }
    },
    {
      "cell_type": "code",
      "source": [
        "S2 = { (1,2,3) , \"hELLO\"};\n",
        "print(\"Set Using Tuple \" , S2);"
      ],
      "metadata": {
        "colab": {
          "base_uri": "https://localhost:8080/"
        },
        "id": "VDkjAOlaJLLL",
        "outputId": "47f2e525-05a6-4c9d-82fe-131250c8e4e6"
      },
      "execution_count": null,
      "outputs": [
        {
          "output_type": "stream",
          "name": "stdout",
          "text": [
            "Set Using Tuple  {'hELLO', (1, 2, 3)}\n"
          ]
        }
      ]
    },
    {
      "cell_type": "markdown",
      "source": [
        "**SETS DO NOT HAVE INDEXING**\n",
        "\n",
        "**SETS USE HASHING**"
      ],
      "metadata": {
        "id": "zKTxYrkJJvdL"
      }
    },
    {
      "cell_type": "markdown",
      "source": [
        "\n",
        "\n",
        "```\n",
        "# Sets Do Not Support Item Assignment\n",
        "```\n",
        "\n"
      ],
      "metadata": {
        "id": "0xv10sQyKVem"
      }
    },
    {
      "cell_type": "code",
      "source": [
        "S2[0] = \"One\";\n"
      ],
      "metadata": {
        "colab": {
          "base_uri": "https://localhost:8080/",
          "height": 165
        },
        "id": "u7S-OcIBKcsh",
        "outputId": "2ccafed2-ee8b-4a58-fd7a-3d256a81ea07"
      },
      "execution_count": null,
      "outputs": [
        {
          "output_type": "error",
          "ename": "TypeError",
          "evalue": "ignored",
          "traceback": [
            "\u001b[0;31m---------------------------------------------------------------------------\u001b[0m",
            "\u001b[0;31mTypeError\u001b[0m                                 Traceback (most recent call last)",
            "\u001b[0;32m<ipython-input-5-b4b40b1ae43f>\u001b[0m in \u001b[0;36m<module>\u001b[0;34m\u001b[0m\n\u001b[0;32m----> 1\u001b[0;31m \u001b[0mS2\u001b[0m\u001b[0;34m[\u001b[0m\u001b[0;36m0\u001b[0m\u001b[0;34m]\u001b[0m \u001b[0;34m=\u001b[0m \u001b[0;34m\"One\"\u001b[0m\u001b[0;34m;\u001b[0m\u001b[0;34m\u001b[0m\u001b[0;34m\u001b[0m\u001b[0m\n\u001b[0m",
            "\u001b[0;31mTypeError\u001b[0m: 'set' object does not support item assignment"
          ]
        }
      ]
    },
    {
      "cell_type": "markdown",
      "source": [
        "ADD Items In Set"
      ],
      "metadata": {
        "id": "V1xt4eDhKsde"
      }
    },
    {
      "cell_type": "code",
      "source": [
        "S2.add(\"Third Item\");\n",
        "print(S2);"
      ],
      "metadata": {
        "colab": {
          "base_uri": "https://localhost:8080/"
        },
        "id": "JV8mYwVQKuic",
        "outputId": "8b096dd7-a709-4cc7-ec6a-68d08c61c780"
      },
      "execution_count": null,
      "outputs": [
        {
          "output_type": "stream",
          "name": "stdout",
          "text": [
            "{'hELLO', 'Third Item', (1, 2, 3)}\n"
          ]
        }
      ]
    },
    {
      "cell_type": "markdown",
      "source": [
        "To Delete\n",
        "\n",
        "* del : \n",
        "syntax:- del S2[0] // not allowed\n",
        "\n",
        "> del S2; ***# will delete the entire set***\n",
        "\n",
        "* remove\n",
        "* pop"
      ],
      "metadata": {
        "id": "xLv4SzMALEw5"
      }
    },
    {
      "cell_type": "code",
      "source": [
        "print(S2);\n",
        "\n",
        "\n",
        "S2.remove((1,2,3));\n",
        "print(\"remove() \" , S2);\n",
        "\n",
        "S2.pop();\n",
        "print(\"After pop() \" , S2);"
      ],
      "metadata": {
        "colab": {
          "base_uri": "https://localhost:8080/"
        },
        "id": "adfU9CtrLpTH",
        "outputId": "ee4165d8-b23a-49aa-ff0b-5678bd10df4a"
      },
      "execution_count": null,
      "outputs": [
        {
          "output_type": "stream",
          "name": "stdout",
          "text": [
            "{'hELLO', 'Third Item', (1, 2, 3)}\n",
            "remove()  {'hELLO', 'Third Item'}\n",
            "After pop()  {'Third Item'}\n"
          ]
        }
      ]
    },
    {
      "cell_type": "markdown",
      "source": [
        "SET OPERATIONS"
      ],
      "metadata": {
        "id": "T9cYZSsLMc-9"
      }
    },
    {
      "cell_type": "markdown",
      "source": [
        "* SETS **DONT** SUPPORT CONCATENATION"
      ],
      "metadata": {
        "id": "PIYmzJUfMgqn"
      }
    },
    {
      "cell_type": "code",
      "source": [
        "print(S2);\n",
        "\n",
        "S3 = {(3,4,5)};\n",
        "\n",
        "S4 = S2 + S3;"
      ],
      "metadata": {
        "colab": {
          "base_uri": "https://localhost:8080/",
          "height": 217
        },
        "id": "vhrX-geBMoC1",
        "outputId": "9ee6de3f-21fc-4955-dda8-93be62c281ff"
      },
      "execution_count": null,
      "outputs": [
        {
          "output_type": "stream",
          "name": "stdout",
          "text": [
            "{'Third Item'}\n"
          ]
        },
        {
          "output_type": "error",
          "ename": "TypeError",
          "evalue": "ignored",
          "traceback": [
            "\u001b[0;31m---------------------------------------------------------------------------\u001b[0m",
            "\u001b[0;31mTypeError\u001b[0m                                 Traceback (most recent call last)",
            "\u001b[0;32m<ipython-input-18-09f1b9c1c78c>\u001b[0m in \u001b[0;36m<module>\u001b[0;34m\u001b[0m\n\u001b[1;32m      3\u001b[0m \u001b[0mS3\u001b[0m \u001b[0;34m=\u001b[0m \u001b[0;34m{\u001b[0m\u001b[0;34m(\u001b[0m\u001b[0;36m3\u001b[0m\u001b[0;34m,\u001b[0m\u001b[0;36m4\u001b[0m\u001b[0;34m,\u001b[0m\u001b[0;36m5\u001b[0m\u001b[0;34m)\u001b[0m\u001b[0;34m}\u001b[0m\u001b[0;34m;\u001b[0m\u001b[0;34m\u001b[0m\u001b[0;34m\u001b[0m\u001b[0m\n\u001b[1;32m      4\u001b[0m \u001b[0;34m\u001b[0m\u001b[0m\n\u001b[0;32m----> 5\u001b[0;31m \u001b[0mS4\u001b[0m \u001b[0;34m=\u001b[0m \u001b[0mS2\u001b[0m \u001b[0;34m+\u001b[0m \u001b[0mS3\u001b[0m\u001b[0;34m;\u001b[0m\u001b[0;34m\u001b[0m\u001b[0;34m\u001b[0m\u001b[0m\n\u001b[0m",
            "\u001b[0;31mTypeError\u001b[0m: unsupported operand type(s) for +: 'set' and 'set'"
          ]
        }
      ]
    },
    {
      "cell_type": "markdown",
      "source": [
        "FUNCTIONS"
      ],
      "metadata": {
        "id": "cVvMVLSXPrpw"
      }
    },
    {
      "cell_type": "code",
      "source": [
        "# S2.remove((1,2,3));\n",
        "\n",
        "print(S2);\n",
        "\n",
        "S2.add(\"Fourth Item\")\n",
        "\n",
        "print(len(S2));\n",
        "\n",
        "print(min(S2));\n",
        "\n",
        "print(max(S2));\n",
        "\n",
        "print(sorted(S2));\n",
        "\n",
        "\n",
        "S3 = {(5,6,7)  ,  \"Boat\"};\n",
        "\n",
        "print(S2.union(S3));\n",
        "\n",
        "S4  = {\"Boat\"};\n",
        "\n",
        "print(S3.intersection(S4));\n",
        "\n",
        "print(S2.difference(S4));\n",
        "\n",
        "print(S2.isdisjoint(S4)); # is there nothing common in the two sets\n",
        "\n",
        "# similarly \n",
        "#--------------\n",
        "# -> issubset()\n",
        "# -> issuperset()\n",
        "# -> isdisjoint()\n"
      ],
      "metadata": {
        "colab": {
          "base_uri": "https://localhost:8080/"
        },
        "id": "o7_wTnnUPs_S",
        "outputId": "4fa712a5-920a-4cdd-e00c-986639446a92"
      },
      "execution_count": null,
      "outputs": [
        {
          "output_type": "stream",
          "name": "stdout",
          "text": [
            "{'Fourth Item', 'Third Item'}\n",
            "2\n",
            "Fourth Item\n",
            "Third Item\n",
            "['Fourth Item', 'Third Item']\n",
            "{(5, 6, 7), 'Boat', 'Fourth Item', 'Third Item'}\n",
            "{'Boat'}\n",
            "{'Fourth Item', 'Third Item'}\n",
            "True\n"
          ]
        }
      ]
    },
    {
      "cell_type": "markdown",
      "source": [
        "\n",
        "\n",
        "---\n",
        "\n"
      ],
      "metadata": {
        "id": "oiFDoTFlNMI-"
      }
    },
    {
      "cell_type": "markdown",
      "source": [
        "**DICTIONARY**\n",
        "\n",
        "* Dictionary => { }\n",
        "* Key Value Pairs\n",
        "* Dictionary Has No Indexing\n",
        "* Keys Should **ALWAYS BE IMMUTABLE**\n",
        "* Keys should be unique\n",
        "\n",
        "> **Mutable** -> List / Set / Dictionary\n",
        "\n",
        "\n",
        "> **Immutable** -> Strings / Tuples / Int / Float / Boolean / Complex"
      ],
      "metadata": {
        "id": "hv4OWj_VNNDj"
      }
    },
    {
      "cell_type": "code",
      "source": [
        "# creating an Empty Dictionary\n",
        "D = { };\n",
        "print(type(D));\n",
        "\n",
        "D = { \n",
        "    \"Name\" : \"Nitish\",\n",
        "    \"Gender\" : \"Male\"\n",
        "};\n",
        "print(D);\n",
        "\n"
      ],
      "metadata": {
        "id": "c8sOO2HY7H-l",
        "colab": {
          "base_uri": "https://localhost:8080/"
        },
        "outputId": "8ff00f7f-3182-407d-ae6e-d187aa487cf9"
      },
      "execution_count": null,
      "outputs": [
        {
          "output_type": "stream",
          "name": "stdout",
          "text": [
            "<class 'dict'>\n",
            "{'Name': 'Nitish', 'Gender': 'Male'}\n"
          ]
        }
      ]
    },
    {
      "cell_type": "markdown",
      "source": [],
      "metadata": {
        "id": "ZMiDfLWNNSXD"
      }
    },
    {
      "cell_type": "markdown",
      "source": [
        "**Keys Should Be Unique**"
      ],
      "metadata": {
        "id": "frZ6PT2kX1Cq"
      }
    },
    {
      "cell_type": "code",
      "source": [
        "D  = {\n",
        "    \"Name\" : \"Kevin\",\n",
        "    \"Name\" : \"James\"\n",
        "}\n",
        "\n",
        "print(D);\n",
        "# Here the Value Of The Same Key Got Updated... "
      ],
      "metadata": {
        "colab": {
          "base_uri": "https://localhost:8080/"
        },
        "id": "MIErsX-bX402",
        "outputId": "8ede73ef-f237-4fe6-e287-7757a40cbadf"
      },
      "execution_count": null,
      "outputs": [
        {
          "output_type": "stream",
          "name": "stdout",
          "text": [
            "{'Name': 'James'}\n"
          ]
        }
      ]
    },
    {
      "cell_type": "markdown",
      "source": [
        "2-D Dictionary"
      ],
      "metadata": {
        "id": "rZkZSJMmfLCu"
      }
    },
    {
      "cell_type": "code",
      "source": [
        "D = {\n",
        "    \"Name\" : \"Rohit\" , \n",
        "     \"Age\" : \"16\",\n",
        "     \"Marks\" : {\n",
        "         \"Maths\" : 80,\n",
        "         \"Science\" : 87,\n",
        "         \"English\" : 82 \n",
        "     }\n",
        "}\n",
        "\n",
        "print(D);"
      ],
      "metadata": {
        "colab": {
          "base_uri": "https://localhost:8080/"
        },
        "id": "9zbMawLifOv8",
        "outputId": "aa39c79e-022e-4d0c-f39b-60eb6995b3e3"
      },
      "execution_count": null,
      "outputs": [
        {
          "output_type": "stream",
          "name": "stdout",
          "text": [
            "{'Name': 'Rohit', 'Age': '16', 'Marks': {'Maths': 80, 'Science': 87, 'English': 82}}\n"
          ]
        }
      ]
    },
    {
      "cell_type": "markdown",
      "source": [
        "Accessing Dictionary\n",
        "\n",
        "> We need to use the key Inorder to get the values.\n",
        "\n",
        "> **No indexing & No Slicing**\n",
        "\n",
        "***syntax*** : Dictionary_Name[Key]"
      ],
      "metadata": {
        "id": "B6ogblrXfg8g"
      }
    },
    {
      "cell_type": "code",
      "source": [
        "print(D[\"Name\"]);\n",
        "\n",
        "print(D[\"Marks\"][\"English\"]); # Accessing 2-D Dictionary\n",
        "\n",
        "print(D[\"Marks\"][\"Maths\"]);"
      ],
      "metadata": {
        "colab": {
          "base_uri": "https://localhost:8080/"
        },
        "id": "r6bIftGef17m",
        "outputId": "9a0ca9a3-2aea-41bc-fc1d-41b01a13f3b3"
      },
      "execution_count": null,
      "outputs": [
        {
          "output_type": "stream",
          "name": "stdout",
          "text": [
            "Rohit\n",
            "82\n",
            "80\n"
          ]
        }
      ]
    },
    {
      "cell_type": "code",
      "source": [
        "# Creating A Dictionary Of Numbers\n",
        "\n",
        "D = {\n",
        "  80 : \"Win\",\n",
        "  81 : \"Lose\",\n",
        "  80.5 : \"To Be Decided\",\n",
        "  True : \"Match Called Off\",\n",
        "  False : \"Match Paused\",\n",
        "  #(1,2,3) : \"Try Again\"\n",
        "};\n",
        "\n",
        "print(D);\n",
        "\n",
        "# we can also use\n",
        "print(D.get(80)); # Dictionary.get(Key) ONLY FOR 1 DIMENSIONAL DICTIONARY"
      ],
      "metadata": {
        "colab": {
          "base_uri": "https://localhost:8080/"
        },
        "id": "tjzc1fpygUTK",
        "outputId": "12a483b6-e678-4d70-e016-23882650ced8"
      },
      "execution_count": null,
      "outputs": [
        {
          "output_type": "stream",
          "name": "stdout",
          "text": [
            "{80: 'Win', 81: 'Lose', 80.5: 'To Be Decided', True: 'Match Called Off', False: 'Match Paused'}\n",
            "Win\n"
          ]
        }
      ]
    },
    {
      "cell_type": "markdown",
      "source": [
        "Add New Key-Value Pairs"
      ],
      "metadata": {
        "id": "7AxKXSSghvGb"
      }
    },
    {
      "cell_type": "code",
      "source": [
        "D[\"Age\"] = 22;\n",
        "\n",
        "print(D);"
      ],
      "metadata": {
        "colab": {
          "base_uri": "https://localhost:8080/"
        },
        "id": "xkyxyxoihznz",
        "outputId": "56526347-a640-44ff-d62a-a665697e70d9"
      },
      "execution_count": null,
      "outputs": [
        {
          "output_type": "stream",
          "name": "stdout",
          "text": [
            "{80: 'Win', 81: 'Lose', 80.5: 'To Be Decided', True: 'Match Called Off', False: 'Match Paused', 'Age': 22}\n"
          ]
        }
      ]
    },
    {
      "cell_type": "markdown",
      "source": [
        "Delete"
      ],
      "metadata": {
        "id": "iV_cURU_iZ8v"
      }
    },
    {
      "cell_type": "code",
      "source": [
        "del D;\n"
      ],
      "metadata": {
        "id": "RLfHsOD-ibBH"
      },
      "execution_count": null,
      "outputs": []
    },
    {
      "cell_type": "markdown",
      "source": [
        "***To Delete A Key-Value Pair***"
      ],
      "metadata": {
        "id": "79-PCnmgig_4"
      }
    },
    {
      "cell_type": "code",
      "source": [
        "D = {\n",
        "    \"Name\" : \"RJ\",\n",
        "     \"Age\" : 25\n",
        "}\n",
        "\n",
        "print(\"Before Deletion\", D);\n",
        "\n",
        "# deleting a specific key-value pair\n",
        "del D[\"Name\"];\n",
        "print(\"After Deletion\", D);"
      ],
      "metadata": {
        "colab": {
          "base_uri": "https://localhost:8080/"
        },
        "id": "SLS9X-A3ilbv",
        "outputId": "0336bcd1-d749-4330-d273-3b139c552533"
      },
      "execution_count": null,
      "outputs": [
        {
          "output_type": "stream",
          "name": "stdout",
          "text": [
            "Before Deletion {'Name': 'RJ', 'Age': 25}\n",
            "After Deletion {'Age': 25}\n"
          ]
        }
      ]
    },
    {
      "cell_type": "code",
      "source": [
        "D.clear(); # Dictionary Will Become Empty"
      ],
      "metadata": {
        "id": "3v5MYYf3i83t"
      },
      "execution_count": null,
      "outputs": []
    },
    {
      "cell_type": "markdown",
      "source": [
        "Operations On Dictionary"
      ],
      "metadata": {
        "id": "4PPFn0Wpmvbq"
      }
    },
    {
      "cell_type": "code",
      "source": [
        "D[\"Gender\"] = \"M\";\n",
        "D[\"City\"] = \"Dallas\";\n",
        "\n",
        "for i in D:\n",
        "  print( i , D[i] , sep=\" : \");"
      ],
      "metadata": {
        "colab": {
          "base_uri": "https://localhost:8080/"
        },
        "id": "hoeMoTb0myPG",
        "outputId": "93c30b1b-a4e7-4128-b3d0-500b112862f3"
      },
      "execution_count": null,
      "outputs": [
        {
          "output_type": "stream",
          "name": "stdout",
          "text": [
            "Age : 25\n",
            "Gender : M\n",
            "City : Dallas\n"
          ]
        }
      ]
    },
    {
      "cell_type": "markdown",
      "source": [
        "***Membership Operator***\n",
        "\n",
        "Incase of Dictionary , MEMBERSHIP OPERATOR WORKS ON **KEYS ONLY**"
      ],
      "metadata": {
        "id": "joelQu1bnQgU"
      }
    },
    {
      "cell_type": "code",
      "source": [
        "print(\"City\" in D);\n",
        "\n",
        "print(\"Pincode\" in D);"
      ],
      "metadata": {
        "colab": {
          "base_uri": "https://localhost:8080/"
        },
        "id": "Z8G6PKchnPhj",
        "outputId": "7b327c6f-7bd9-46e3-df3b-fdba5931f27f"
      },
      "execution_count": null,
      "outputs": [
        {
          "output_type": "stream",
          "name": "stdout",
          "text": [
            "True\n",
            "False\n"
          ]
        }
      ]
    },
    {
      "cell_type": "markdown",
      "source": [
        "**sorted()**"
      ],
      "metadata": {
        "id": "bxlEcuqen5GG"
      }
    },
    {
      "cell_type": "code",
      "source": [
        "print(sorted(D));"
      ],
      "metadata": {
        "colab": {
          "base_uri": "https://localhost:8080/"
        },
        "id": "S7YxJjZZnyRM",
        "outputId": "885f56d3-0284-4df1-d646-5b0ecf9681a2"
      },
      "execution_count": null,
      "outputs": [
        {
          "output_type": "stream",
          "name": "stdout",
          "text": [
            "['Age', 'City', 'Gender']\n"
          ]
        }
      ]
    },
    {
      "cell_type": "code",
      "source": [
        "print(D.keys());\n",
        "\n",
        "print();\n",
        "\n",
        "print(D.values());"
      ],
      "metadata": {
        "colab": {
          "base_uri": "https://localhost:8080/"
        },
        "id": "yq3HGfzFn7Me",
        "outputId": "84f5eeb1-80b5-49e2-c973-843dac843358"
      },
      "execution_count": null,
      "outputs": [
        {
          "output_type": "stream",
          "name": "stdout",
          "text": [
            "dict_keys(['Age', 'Gender', 'City'])\n",
            "\n",
            "dict_values([25, 'M', 'Dallas'])\n"
          ]
        }
      ]
    },
    {
      "cell_type": "markdown",
      "source": [
        "\n",
        "\n",
        "---\n",
        "\n"
      ],
      "metadata": {
        "id": "CbHI_OxQtjqJ"
      }
    },
    {
      "cell_type": "markdown",
      "source": [
        "In Python all calls are **Call By Object Reference**"
      ],
      "metadata": {
        "id": "64zcx-ZqBuwL"
      }
    },
    {
      "cell_type": "markdown",
      "source": [
        "***Aliasing*** \n",
        "\n",
        "example: \n",
        "a = 5;\n",
        "b = a;"
      ],
      "metadata": {
        "id": "9mEC4BPlB2CC"
      }
    },
    {
      "cell_type": "code",
      "source": [
        "# example of Aliasing\n",
        "\n",
        "a = 4;\n",
        "b = 4;\n",
        "c = b;\n",
        "\n",
        "print(\"id of a \" , id(a));\n",
        "print(\"Id of b \" , id(b));\n",
        "print(\"Id of c \" , id(c));\n",
        "# All are pointing to the Same Memory Location\n",
        "\n",
        "del a ; # only the reference of pointer('a') gets deleted and not the actual object\n",
        "print(c , \" id of c : \" , id(c));\n",
        "\n",
        "d = 10;\n",
        "print(\"d :-\" , d , \"id of d : \" , id(d));\n",
        "\n",
        "e = d;\n",
        "print(\"e :-\" , e , \" id of e : \" , id(e));\n",
        "\n",
        "del d; # only pointer of d is deleted\n",
        "print(\"After deleting d\\n\",\"e :-\" , e , \" id of e : \" , id(e));\n"
      ],
      "metadata": {
        "colab": {
          "base_uri": "https://localhost:8080/"
        },
        "id": "8Fa_Lt3fCEEm",
        "outputId": "108b211c-6631-4fc5-fc45-6e820b75d6ae"
      },
      "execution_count": null,
      "outputs": [
        {
          "output_type": "stream",
          "name": "stdout",
          "text": [
            "id of a  11256160\n",
            "Id of b  11256160\n",
            "Id of c  11256160\n",
            "4  id of c :  11256160\n",
            "d :- 10 id of d :  11256352\n",
            "e :- 10  id of e :  11256352\n",
            "After deleting d\n",
            " e :- 10  id of e :  11256352\n"
          ]
        }
      ]
    },
    {
      "cell_type": "markdown",
      "source": [
        "******************************************\n",
        "\n",
        "**sys** module:\n",
        "\n",
        "has a function ***getrefcount()*** to know how many variables are pointing to a memory location.\n",
        "\n",
        "******************************************"
      ],
      "metadata": {
        "id": "DupuuoJ4plOK"
      }
    },
    {
      "cell_type": "code",
      "source": [
        "import sys;\n",
        "\n",
        "a = \"717171\";\n",
        "b = a;\n",
        "c = b;\n",
        "ref_count = sys.getrefcount(a);\n",
        "print(ref_count);"
      ],
      "metadata": {
        "colab": {
          "base_uri": "https://localhost:8080/"
        },
        "id": "NPQS3TYhqCHr",
        "outputId": "d0210cd3-777d-43f0-bb1e-a3743eda2eaa"
      },
      "execution_count": null,
      "outputs": [
        {
          "output_type": "stream",
          "name": "stdout",
          "text": [
            "5\n"
          ]
        }
      ]
    },
    {
      "cell_type": "markdown",
      "source": [
        "RANGE FOR SAME ID : ***-5 TO 256***"
      ],
      "metadata": {
        "id": "CZ31gZG2yp2n"
      }
    },
    {
      "cell_type": "code",
      "source": [
        "# example\n",
        "\n",
        "a = 255;\n",
        "b = 255;\n",
        "print(\"id of a :\" , id(a) , \"\\nid of b :\" , id(b));\n",
        "\n",
        "# BUT\n",
        "\n",
        "a = 257;\n",
        "b = 257;\n",
        "print(\"\\nid of a :\" , id(a) , \"\\nid of b :\" , id(b));\n",
        "# now ID's are different\n",
        "\n",
        "# another one\n",
        "a = -7;\n",
        "b = -7;\n",
        "print(\"\\nid of a :\" , id(a) , \"\\nid of b :\" , id(b));"
      ],
      "metadata": {
        "colab": {
          "base_uri": "https://localhost:8080/"
        },
        "id": "V6vY4yjGzbmN",
        "outputId": "715aaa76-193a-4f2a-c1ca-6f41616c01da"
      },
      "execution_count": null,
      "outputs": [
        {
          "output_type": "stream",
          "name": "stdout",
          "text": [
            "id of a : 11264192 \n",
            "id of b : 11264192\n",
            "\n",
            "id of a : 140592513324848 \n",
            "id of b : 140592513323472\n",
            "\n",
            "id of a : 140592513324592 \n",
            "id of b : 140592513325744\n"
          ]
        }
      ]
    },
    {
      "cell_type": "markdown",
      "source": [
        "Whenever our Strings are in the Format Of Identifiers (like if they are ONLY ALPHANUMERIC  , '_') then ***PYTHON DOES\n",
        "NOT PRODUCES POINTERS TO SAME MEMORY LOCATION***"
      ],
      "metadata": {
        "id": "tzepwW4Wyuu6"
      }
    },
    {
      "cell_type": "code",
      "source": [
        "# example\n",
        "\n",
        "# NOT IN identifier format\n",
        "a = \"Hello World\";\n",
        "b = \"Hello World\";\n",
        "print(\"\\nid of a :\" , id(a) , \"\\nid of b :\" , id(b));\n",
        "\n",
        "# exmaple 2\n",
        "# IN identifier format\n",
        "a = \"Hello_World\";\n",
        "b = \"Hello_World\";\n",
        "print(\"\\nid of a :\" , id(a) , \"\\nid of b :\" , id(b));"
      ],
      "metadata": {
        "colab": {
          "base_uri": "https://localhost:8080/"
        },
        "id": "gQHtNc670Pmo",
        "outputId": "8651092c-0a00-4fe0-8c04-8eef1b4ec577"
      },
      "execution_count": null,
      "outputs": [
        {
          "output_type": "stream",
          "name": "stdout",
          "text": [
            "\n",
            "id of a : 140592512734128 \n",
            "id of b : 140592512704752\n",
            "\n",
            "id of a : 140592512704880 \n",
            "id of b : 140592512704880\n"
          ]
        }
      ]
    },
    {
      "cell_type": "markdown",
      "source": [
        "In Python , the List Index Stores the memory location of the variable in it..\n",
        "**AND NOT THE VARIABLE ITSELF.**"
      ],
      "metadata": {
        "id": "bHqsOg_i53Zb"
      }
    },
    {
      "cell_type": "code",
      "source": [
        "# example\n",
        "list_1 = [1 , 2  , 3];\n",
        "print(list_1);\n",
        "\n",
        "print(id(1));\n",
        "print(id(list_1[0]));\n",
        "\n",
        "x  = list_1[0];\n",
        "print(1 is x);\n",
        "print(id(1) , \" == \" , id(x));"
      ],
      "metadata": {
        "colab": {
          "base_uri": "https://localhost:8080/"
        },
        "id": "Q6Z0Gp0v6Foi",
        "outputId": "18a91e7f-7a01-417b-cb58-611db5bdbe33"
      },
      "execution_count": null,
      "outputs": [
        {
          "output_type": "stream",
          "name": "stdout",
          "text": [
            "[1, 2, 3]\n",
            "11256064\n",
            "11256064\n",
            "True\n",
            "11256064  ==  11256064\n"
          ]
        }
      ]
    },
    {
      "cell_type": "markdown",
      "source": [
        "**MUTABILITY** : Ability to change or edit data in it's memory location.**(USING INBUILT FUNCTIONS)**"
      ],
      "metadata": {
        "id": "sqlG3pwz5Ky6"
      }
    },
    {
      "cell_type": "markdown",
      "source": [
        "MUTABLE : List , Dictionary , Sets\n",
        "\n",
        "IMMUTABLE : String , Int , Float , Boolean , Complex , Tuple\n",
        "\n",
        "*   List item\n",
        "*   List item\n",
        "\n"
      ],
      "metadata": {
        "id": "KFF_VvmD7apy"
      }
    },
    {
      "cell_type": "markdown",
      "source": [
        "**We Can Manipulate A List Inside A Tuple**\n",
        "\n",
        "ex :- ( 1 , 2 , 3 , 4 , [ 5 , 6 ] );"
      ],
      "metadata": {
        "id": "zY9EZKQ2DGmi"
      }
    },
    {
      "cell_type": "markdown",
      "source": [
        "**List Concatetion ( List = List + [x,y] )\n",
        "will lead to Formation Of A New List At A Different Memory Location**"
      ],
      "metadata": {
        "id": "KTESOpUTGunT"
      }
    },
    {
      "cell_type": "code",
      "source": [
        "c = ([1,2] , [3 , 5]);\n",
        "print(type(c));\n",
        "c[1][0] = 10;\n",
        "print(c);"
      ],
      "metadata": {
        "colab": {
          "base_uri": "https://localhost:8080/"
        },
        "id": "gFnnSN6iG9i2",
        "outputId": "4fde0b47-ff6a-459a-ea6d-4917b581bc12"
      },
      "execution_count": null,
      "outputs": [
        {
          "output_type": "stream",
          "name": "stdout",
          "text": [
            "<class 'tuple'>\n",
            "([1, 2], [10, 5])\n"
          ]
        }
      ]
    },
    {
      "cell_type": "markdown",
      "source": [
        "Example of Mutability\n"
      ],
      "metadata": {
        "id": "a7XcGly9UDla"
      }
    },
    {
      "cell_type": "code",
      "source": [
        "# Example of Mutability\n",
        "\n",
        "a = [1,2,3];\n",
        "b = a;\n",
        "\n",
        "print(\"a \", a );\n",
        "print(\"b \", b );\n",
        "\n",
        "# editiing 'a'\n",
        "print(\"editing a\");\n",
        "\n",
        "a.append(11);\n",
        "print(\"a \", a );\n",
        "print(\"b \", b );\n",
        "# even b changes\n",
        "# since 'a' & 'b' are pointing to Same Address"
      ],
      "metadata": {
        "colab": {
          "base_uri": "https://localhost:8080/"
        },
        "id": "wL4yEGemUPbL",
        "outputId": "30f0d056-005e-4b7e-be34-0e5540bf7849"
      },
      "execution_count": null,
      "outputs": [
        {
          "output_type": "stream",
          "name": "stdout",
          "text": [
            "a  [1, 2, 3]\n",
            "b  [1, 2, 3]\n",
            "editing a\n",
            "a  [1, 2, 3, 11]\n",
            "b  [1, 2, 3, 11]\n"
          ]
        }
      ]
    },
    {
      "cell_type": "markdown",
      "source": [
        "**TO CREATE A CLONE / DUPLICATE AT BUT AT DIFFERENT MEMORY LOCATION**"
      ],
      "metadata": {
        "id": "IRVEnxdJUsed"
      }
    },
    {
      "cell_type": "code",
      "source": [
        "a = [5 , 6 , 7];\n",
        "b = a[:];\n",
        "\n",
        "print(\"id of a \" , id(a));\n",
        "print(\"id of b \" , id(b));\n",
        "# both id's are different"
      ],
      "metadata": {
        "colab": {
          "base_uri": "https://localhost:8080/"
        },
        "id": "Nz8C6QvaU2tr",
        "outputId": "4f04bc1b-7e28-4b6e-c26b-71c90f4192bd"
      },
      "execution_count": null,
      "outputs": [
        {
          "output_type": "stream",
          "name": "stdout",
          "text": [
            "id of a  140592511950272\n",
            "id of b  140592511949632\n"
          ]
        }
      ]
    },
    {
      "cell_type": "markdown",
      "source": [
        "\n",
        "\n",
        "---\n",
        "\n"
      ],
      "metadata": {
        "id": "3W2q59O6DVlK"
      }
    },
    {
      "cell_type": "markdown",
      "source": [
        "**Functions**"
      ],
      "metadata": {
        "id": "3AOZ7j29DXaw"
      }
    },
    {
      "cell_type": "code",
      "source": [
        "def is_even(i) :\n",
        "\n",
        "  # documentation of a function\n",
        "  \"\"\"checks if even\n",
        "  input - any valid integer\n",
        "  output - returns boolean\"\"\"\n",
        "\n",
        "  return i % 2  == 0;\n",
        "\n",
        "x = 15;\n",
        "print('is %d even: ' % x , is_even(x));\n",
        "\n",
        "# to print the documentation of function\n",
        "print(\"\\ndocumentation\\n\",is_even.__doc__);"
      ],
      "metadata": {
        "colab": {
          "base_uri": "https://localhost:8080/"
        },
        "id": "xN5Nm-NMDa1T",
        "outputId": "549d26e4-a4e3-4f11-87cc-b748634e56be"
      },
      "execution_count": null,
      "outputs": [
        {
          "output_type": "stream",
          "name": "stdout",
          "text": [
            "is 15 even:  False\n",
            "\n",
            "documentation\n",
            " checks if even\n",
            "  input - any valid integer\n",
            "  output - returns boolean\n"
          ]
        }
      ]
    },
    {
      "cell_type": "markdown",
      "source": [
        "*Arguments*\n",
        "\n",
        "Types :\n",
        "* Default\n",
        "\n",
        "* Postional\n",
        "\n",
        "* Keyword\n",
        "\n",
        "* Arbitary"
      ],
      "metadata": {
        "id": "gG2HnWQN6bWw"
      }
    },
    {
      "cell_type": "code",
      "source": [
        "# example\n",
        "def power(a = 1 , b = 1) : # default arguments set to a = 1 & b = 1\n",
        "  return a ** b;\n",
        "# positional argument\n",
        "print(power(5 , 4));\n",
        "\n",
        "print(\"default result \", power());\n",
        "\n",
        "# keyword argument\n",
        "print(power(b = 10 , a = 2));\n",
        "\n",
        "# keyword argument has higher precedence than positional argument\n",
        "\n",
        "def flex_mutliply(*num) :# a tuple of numbers is passed < For variable number of inputs >\n",
        "  product = 1;\n",
        "  for x in num :\n",
        "    product *= x;\n",
        "  print(num ,\" and it's type: \" ,type(num));\n",
        "  return product;\n",
        "\n",
        "print(flex_mutliply(5,1,2));"
      ],
      "metadata": {
        "colab": {
          "base_uri": "https://localhost:8080/"
        },
        "id": "xPPzBPgL645E",
        "outputId": "ca1d4e7b-b1ef-4ee3-fb05-9d0ff1609790"
      },
      "execution_count": null,
      "outputs": [
        {
          "output_type": "stream",
          "name": "stdout",
          "text": [
            "625\n",
            "default result  1\n",
            "1024\n",
            "(5, 1, 2)  and it's type:  <class 'tuple'>\n",
            "10\n"
          ]
        }
      ]
    },
    {
      "cell_type": "markdown",
      "source": [
        "**FRAMES AND OBJECT**\n",
        "\n",
        "function treated as an Object.\n",
        "\n",
        "function references in global frame."
      ],
      "metadata": {
        "id": "hbrIp2iH_DEV"
      }
    },
    {
      "cell_type": "markdown",
      "source": [
        "**ANOMALY**\n",
        "\n",
        "*be ware*"
      ],
      "metadata": {
        "id": "hEMnqHdR_2TV"
      }
    },
    {
      "cell_type": "code",
      "source": [
        "# Anomaly\n",
        "\n",
        "def g(y) :\n",
        "  print(\"inside the function\");\n",
        "  print(\"x:\", x);\n",
        "  print(\"x+1:\" , x+1); # this line DOES NOT MANIPULATE the value of 'X'\n",
        "\n",
        "x = 5;\n",
        "g(x);\n",
        "print(\"outside the function \" , x );\n",
        "\n",
        "# the above function does not knows the value of 'x'\n",
        "# hence it borrows the value / access the value of 'x' \n",
        "# from global frame.\n",
        "\n",
        "# if a FUNCTION DOES NOT HAS IT'S OWN LOCAL VARIABLE...\n",
        "# IT CAN ACCESS THE GLOBAL VARIABLE ...\n",
        "# However IT ''CANNOT'' MANIPULATE THE global VARIABLE."
      ],
      "metadata": {
        "colab": {
          "base_uri": "https://localhost:8080/"
        },
        "id": "uMPyC91W_7-i",
        "outputId": "913ba377-8fe1-4661-c716-722408d7b5fb"
      },
      "execution_count": null,
      "outputs": [
        {
          "output_type": "stream",
          "name": "stdout",
          "text": [
            "inside the function\n",
            "x: 5\n",
            "x+1: 6\n",
            "outside the function  5\n"
          ]
        }
      ]
    },
    {
      "cell_type": "markdown",
      "source": [
        "**TO MANIPULATE THE GLOBAL VARIABLE**\n",
        "\n",
        "*using the **global** variable*"
      ],
      "metadata": {
        "id": "5iZHWwSNEoDf"
      }
    },
    {
      "cell_type": "code",
      "source": [
        "def h(y) :\n",
        "  global  x;\n",
        "  x = x + 3;\n",
        "  print(\"inside the function\" , x);\n",
        "\n",
        "x = 50;\n",
        "h(x);\n",
        "print(\"outside the function \" , x);\n",
        "\n",
        "# here we can see... after using the 'global' KEYWORD\n",
        "# all manipulations made inside the function()\n",
        "# are done to the GLOBAL variable all..."
      ],
      "metadata": {
        "colab": {
          "base_uri": "https://localhost:8080/"
        },
        "id": "mDw1r4xuEwu9",
        "outputId": "775878e9-18aa-46f4-d126-5080594a98a0"
      },
      "execution_count": null,
      "outputs": [
        {
          "output_type": "stream",
          "name": "stdout",
          "text": [
            "inside the function 53\n",
            "outside the function  53\n"
          ]
        }
      ]
    },
    {
      "cell_type": "markdown",
      "source": [
        "to manipulate a global variable inside a function()....\n",
        "we use the keyword **\"global\"** inside the function before using it"
      ],
      "metadata": {
        "id": "nkilqyYaF_kw"
      }
    },
    {
      "cell_type": "markdown",
      "source": [
        "NESTED FUNCTIONS"
      ],
      "metadata": {
        "id": "SgodDv6uGa7m"
      }
    },
    {
      "cell_type": "code",
      "source": [
        "def g(x) :\n",
        "\n",
        "  def h() :\n",
        "    x  = 'abc';\n",
        "    print(\"in h() : x = \", x);\n",
        "  x = x + 1;\n",
        "  print('in g(x) : x = ' , x);\n",
        "  h();\n",
        "  return x;\n",
        "\n",
        "x = 3;\n",
        "z = g(x);\n",
        "\n",
        "print(\"x : \" , x , \" z: \", z);"
      ],
      "metadata": {
        "colab": {
          "base_uri": "https://localhost:8080/"
        },
        "id": "bt36Q-9Tgy_N",
        "outputId": "bea48df2-cacf-414c-9470-c1025ccea254"
      },
      "execution_count": null,
      "outputs": [
        {
          "output_type": "stream",
          "name": "stdout",
          "text": [
            "in g(x) : x =  4\n",
            "in h() : x =  abc\n",
            "x :  3  z:  4\n"
          ]
        }
      ]
    },
    {
      "cell_type": "markdown",
      "source": [
        "**EVERYTHING IN A PYTHON( *INCLUDING FUNCTION)* IS AN OBJECT**"
      ],
      "metadata": {
        "id": "pME834PZhrdl"
      }
    },
    {
      "cell_type": "code",
      "source": [
        "def f(x) :\n",
        "  return x**2;\n",
        "\n",
        "x = f;\n",
        "\n",
        "print(x(3));\n",
        "\n",
        "print('type of x = ' , type(x));\n",
        "print('type of f = ' , type(f));\n",
        "\n"
      ],
      "metadata": {
        "colab": {
          "base_uri": "https://localhost:8080/"
        },
        "id": "vDfItJJRh61E",
        "outputId": "75474044-d167-4d35-e972-5a3fbfaf6f3a"
      },
      "execution_count": null,
      "outputs": [
        {
          "output_type": "stream",
          "name": "stdout",
          "text": [
            "9\n",
            "type of x =  <class 'function'>\n",
            "type of f =  <class 'function'>\n"
          ]
        }
      ]
    },
    {
      "cell_type": "markdown",
      "source": [
        "* **WE CAN ALSO DELETE FUNCTIONS**\n",
        "\n",
        "* **A FUNCTION CAN TAKE ANOTHER FUNCTION AS ARGUMENT**\n",
        "\n",
        "* **A FUNCTION CAN RETURN A FUNCTION**\n",
        "\n",
        "* **A FUNCTION CAN ALSO BE A PART OF LIST**\n"
      ],
      "metadata": {
        "id": "ltuRqDaNiFjp"
      }
    },
    {
      "cell_type": "markdown",
      "source": [
        "#QUESTION"
      ],
      "metadata": {
        "id": "ByTpr5ahkiqd"
      }
    },
    {
      "cell_type": "code",
      "source": [
        "def f() :\n",
        "  def x(a , b):\n",
        "    return a + b;\n",
        "  return x;\n",
        "\n",
        "val = f() (3,4); # here f() returns a function 'x ()' which then take 3 , 4 as agruments\n",
        "\n",
        "print(val);"
      ],
      "metadata": {
        "colab": {
          "base_uri": "https://localhost:8080/"
        },
        "id": "6aUvE8lnkmYe",
        "outputId": "20bf3ffc-c5f1-4fbd-ba2e-06a71a7a3a19"
      },
      "execution_count": null,
      "outputs": [
        {
          "output_type": "stream",
          "name": "stdout",
          "text": [
            "7\n"
          ]
        }
      ]
    },
    {
      "cell_type": "markdown",
      "source": [
        "\n",
        "\n",
        "---\n",
        "\n"
      ],
      "metadata": {
        "id": "hBItOHQBl19T"
      }
    },
    {
      "cell_type": "markdown",
      "source": [
        "**Lambda Functions**"
      ],
      "metadata": {
        "id": "zi9XUlb-l03X"
      }
    },
    {
      "cell_type": "markdown",
      "source": [
        "Its a function without name(anonymous).\n",
        "\n",
        "syntax : ***lambda input : expression***\n",
        "\n",
        "> eg:\n"
      ],
      "metadata": {
        "id": "UtemF8JUQ-iE"
      }
    },
    {
      "cell_type": "code",
      "source": [
        "a = lambda x ,y : x + y;\n",
        "\n",
        "print(a(5 , 10));"
      ],
      "metadata": {
        "colab": {
          "base_uri": "https://localhost:8080/"
        },
        "id": "njuG-uaEeX4t",
        "outputId": "7ab75d4c-e2a4-44af-9b3d-23c678f52295"
      },
      "execution_count": null,
      "outputs": [
        {
          "output_type": "stream",
          "name": "stdout",
          "text": [
            "15\n"
          ]
        }
      ]
    },
    {
      "cell_type": "markdown",
      "source": [
        "*NO **RETURN** KEYWORD*"
      ],
      "metadata": {
        "id": "1Jg2jVl_ekvm"
      }
    },
    {
      "cell_type": "markdown",
      "source": [
        "Difference Between Lambda and Normal Function\n",
        "\n",
        "* Lambda function has NO Return Value.\n",
        "\n",
        "* Has to be written in One Line.\n",
        "\n",
        "* Not to be used again & again(Not meant for code resuability)\n",
        "\n",
        "* Has No Name.\n",
        "\n",
        "* Used Along **Higher Order Functions**\n",
        "\n",
        "*(higher order functions are those functions which either take a function as a parameter or return a fucntion)*\n",
        "\n",
        "* Do **Not** Use Keyword *'return'*"
      ],
      "metadata": {
        "id": "jP8-LWSoezyI"
      }
    },
    {
      "cell_type": "code",
      "source": [
        "# proof\n",
        "\n",
        "c = lambda x , y : x ** y;\n",
        "print(\"Answer : \",c(2 , 3) ,\"\\nType of Lambda Function: \" , type(c));"
      ],
      "metadata": {
        "colab": {
          "base_uri": "https://localhost:8080/"
        },
        "id": "uXY0QQrEmzYu",
        "outputId": "596758d6-b3d3-4a3d-d724-8328de7bd746"
      },
      "execution_count": null,
      "outputs": [
        {
          "output_type": "stream",
          "name": "stdout",
          "text": [
            "Answer :  8 \n",
            "Type of Lambda Function:  <class 'function'>\n"
          ]
        }
      ]
    },
    {
      "cell_type": "markdown",
      "source": [
        "**Logic Strictly In One Line**"
      ],
      "metadata": {
        "id": "y_Xsv54uoC8b"
      }
    },
    {
      "cell_type": "code",
      "source": [
        "b = lambda x : 'Even' if x % 2 == 0 else 'Odd';\n",
        "\n",
        "var = 10;\n",
        "print(\"is %d even or odd : \" %var , b(var));"
      ],
      "metadata": {
        "colab": {
          "base_uri": "https://localhost:8080/"
        },
        "id": "-oWOa8Z5nvMt",
        "outputId": "4297852c-092f-49b8-f70f-96ecc58f5bf7"
      },
      "execution_count": null,
      "outputs": [
        {
          "output_type": "stream",
          "name": "stdout",
          "text": [
            "is 10 even or odd :  Even\n"
          ]
        }
      ]
    },
    {
      "cell_type": "markdown",
      "source": [
        "Higher Order Function"
      ],
      "metadata": {
        "id": "ffOFtN9woqPo"
      }
    },
    {
      "cell_type": "code",
      "source": [
        "# example \n",
        "\n",
        "L = [11 ,14 ,21 ,23 ,56 ,78 ,45 ,29 ,28];\n",
        "\n",
        "def count_Odd_and_Even(fun1 , fun2 , L) :\n",
        "\n",
        "  odd_sum = 0;\n",
        "  even_sum = 0;\n",
        "\n",
        "  for i in L :\n",
        "\n",
        "    if fun1(i) :\n",
        "      even_sum += i;\n",
        "    \n",
        "    if fun2(i) :\n",
        "      odd_sum += i;\n",
        "\n",
        "  return(odd_sum , even_sum);\n",
        "\n",
        "\n",
        "# simple lambda function to \n",
        "# check whether number is Even or not.\n",
        "x = lambda x : x % 2 == 0;\n",
        "\n",
        "#to check Odd or not\n",
        "y = lambda x : x % 2 != 0;\n",
        "\n",
        "\n",
        "result = count_Odd_and_Even(x , y , L);\n",
        "\n",
        "print(\"sum of Odds : %d and Evens : %d in List\" % (result[0]  ,  result[1]));"
      ],
      "metadata": {
        "colab": {
          "base_uri": "https://localhost:8080/"
        },
        "id": "s83fA_EaooIk",
        "outputId": "d60607f5-ceb3-4bc0-838c-419072ab595d"
      },
      "execution_count": null,
      "outputs": [
        {
          "output_type": "stream",
          "name": "stdout",
          "text": [
            "sum of Odds : 129 and Evens : 176 in List\n"
          ]
        }
      ]
    },
    {
      "cell_type": "markdown",
      "source": [
        "Some Of the In-built Higher Order Functions\n",
        "\n",
        "> Map : \n",
        "* Takes Input parameter ( Function{lambda function} , an Iterable )\n",
        "\n",
        "* returns a map object which has to converted into a List.\n",
        "\n",
        "\n",
        "> Filter : filters out based on the given condition\n",
        "\n",
        "> Reduce : reduces the list / iteratable\n",
        "\n"
      ],
      "metadata": {
        "id": "lMQhJsWL4Bm7"
      }
    },
    {
      "cell_type": "code",
      "source": [
        "# examples\n",
        "\n",
        "# Map\n",
        "L = [1 , 2 , 3 , 4 , 5 , 6 ];\n",
        "result = list(map( lambda x : x*2 , L ) );\n",
        "print(result);\n",
        "\n",
        "print(list(map( lambda x : x % 2 == 0 , L ) ));\n",
        "\n",
        "\n",
        "students = [\n",
        "  {\n",
        "      \"name\" : \"Kobe\",\n",
        "      \"Jersey-Number\" : \"24\"\n",
        "  }  ,\n",
        "\n",
        "  {\n",
        "      \"name\" : \"Lebron\",\n",
        "      \"Jersey-Number\" : \"23\"\n",
        "  }\n",
        "  ,\n",
        "  {\n",
        "      \"name\" : \"KD\",\n",
        "      \"Jersey-Number\" : \"7\"\n",
        "  }\n",
        "];\n",
        "\n",
        "# extracting name of students\n",
        "list1 = list(map(lambda student : student[\"name\"] , students));\n",
        "# each student is an indiviual dictionary\n",
        "# extracting 'name' of every student\n",
        "print(list1);\n",
        "\n"
      ],
      "metadata": {
        "colab": {
          "base_uri": "https://localhost:8080/"
        },
        "id": "djjBOgr64oY8",
        "outputId": "c258fff4-c42b-4e5d-aaae-a8a36377728c"
      },
      "execution_count": null,
      "outputs": [
        {
          "output_type": "stream",
          "name": "stdout",
          "text": [
            "[2, 4, 6, 8, 10, 12]\n",
            "[False, True, False, True, False, True]\n",
            "['Kobe', 'Lebron', 'KD']\n",
            "[{'name': 'Kobe', 'Jersey-Number': '24'}, {'name': 'Lebron', 'Jersey-Number': '23'}, {'name': 'KD', 'Jersey-Number': '7'}]\n"
          ]
        }
      ]
    },
    {
      "cell_type": "code",
      "source": [
        "# examples of filter()\n",
        "\n",
        "L = [4 ,4 ,5 ,6 ,1 ,7 ,8 ,9, 10 ,21];\n",
        "print(\"filter() : \" , list(filter(lambda x : x > 4 , L)));\n",
        "\n",
        "\n",
        "fruits = [ \"Apple\" , \"Orange\" ,\"Watermelon\" , \"Kiwi\"];\n",
        "print(list(filter(lambda fruit : fruit[0] == 'A' , fruits)));"
      ],
      "metadata": {
        "colab": {
          "base_uri": "https://localhost:8080/"
        },
        "id": "wRsPQzYFS5Iy",
        "outputId": "94fcde0e-5cdf-4aa3-ef37-47e37967f65b"
      },
      "execution_count": null,
      "outputs": [
        {
          "output_type": "stream",
          "name": "stdout",
          "text": [
            "filter() :  [5, 6, 7, 8, 9, 10, 21]\n",
            "['Apple']\n"
          ]
        }
      ]
    },
    {
      "cell_type": "code",
      "source": [
        "# example of reduce()\n",
        "import functools\n",
        "\n",
        "\n",
        "L = [1 ,2 ,3 ,4 ,5 ,6, 7];\n",
        "\n",
        "print(functools.reduce(lambda x , y : x*y , L));\n",
        "# here we are multiplying first two numbers\n",
        "# then multipy product of first two numbers with 3rd number\n",
        "# then we go on doing this untill we reduce the list to a single output\n",
        "# 1+2 , 3 ,4 ,5 ,6 ,7\n",
        "# 3+3 , 4 ,5, 6 ,7\n",
        "# 6+4 , 5 ,6 ,7\n",
        "#........\n",
        "\n",
        "\n",
        "# example 2\n",
        "print(\"greatest number in the list \" , functools.reduce( lambda x , y : x if x > y else  y , L ));"
      ],
      "metadata": {
        "colab": {
          "base_uri": "https://localhost:8080/"
        },
        "id": "_oggAbdjYG7K",
        "outputId": "da9c701d-be6a-411c-ca22-1960e017f274"
      },
      "execution_count": null,
      "outputs": [
        {
          "output_type": "stream",
          "name": "stdout",
          "text": [
            "5040\n",
            "greatest number in the list  7\n"
          ]
        }
      ]
    },
    {
      "cell_type": "markdown",
      "source": [
        "**List Comprehension and Dictionary Comprehension**\n",
        "\n",
        "*   List Comprehension : to create a new list from old list.\n",
        "\n",
        "*Similary Dictionary Comprehension*\n",
        "\n"
      ],
      "metadata": {
        "id": "ElwKQG8JaMOt"
      }
    },
    {
      "cell_type": "code",
      "source": [
        "# example of List Comprehension\n",
        "\n",
        "L = [ 1 , 2 , 3 , 4 ,5 , 6, 7];\n",
        "\n",
        "L2 = [item * 2 for item in L if item % 2 != 0];\n",
        "print(L2);"
      ],
      "metadata": {
        "colab": {
          "base_uri": "https://localhost:8080/"
        },
        "id": "HI8K7y6Sagxp",
        "outputId": "8d749835-63f2-4679-c85c-5804b30794df"
      },
      "execution_count": null,
      "outputs": [
        {
          "output_type": "stream",
          "name": "stdout",
          "text": [
            "[2, 6, 10, 14]\n"
          ]
        }
      ]
    },
    {
      "cell_type": "markdown",
      "source": [
        "\n",
        "\n",
        "---\n",
        "\n",
        "\n",
        "\n",
        "---\n",
        "\n"
      ],
      "metadata": {
        "id": "0xCgJXvECs8-"
      }
    },
    {
      "cell_type": "markdown",
      "source": [
        "##**Python_2**"
      ],
      "metadata": {
        "id": "y6YA0BplCuT6"
      }
    },
    {
      "cell_type": "code",
      "source": [
        "print(5 * 'Hello\\n');"
      ],
      "metadata": {
        "colab": {
          "base_uri": "https://localhost:8080/"
        },
        "id": "Ns19swF7Fb31",
        "outputId": "3c1b5921-1a28-4a6e-fc07-26729f88fe24"
      },
      "execution_count": null,
      "outputs": [
        {
          "output_type": "stream",
          "name": "stdout",
          "text": [
            "Hello\n",
            "Hello\n",
            "Hello\n",
            "Hello\n",
            "Hello\n",
            "\n"
          ]
        }
      ]
    },
    {
      "cell_type": "markdown",
      "source": [
        "String Concatenation"
      ],
      "metadata": {
        "id": "OH_w13rAF6Ip"
      }
    },
    {
      "cell_type": "code",
      "source": [
        "print(\"Hello \" + str(50)); # convert 50 to '50'\n",
        "\n",
        "# or \n",
        "\n",
        "print(f\"hello {50}\"); # formatted strings in python\n",
        "# F - Strings\n",
        "\n",
        "# or\n",
        "\n",
        "print(\"hello %d and %f\" % (50 , 90));"
      ],
      "metadata": {
        "colab": {
          "base_uri": "https://localhost:8080/"
        },
        "id": "NIKAKam9GFzW",
        "outputId": "c9bcd296-7e31-4147-87d5-2ef9e741eb9b"
      },
      "execution_count": null,
      "outputs": [
        {
          "output_type": "stream",
          "name": "stdout",
          "text": [
            "Hello 50\n",
            "hello 50\n",
            "hello 50 and 90.000000\n"
          ]
        }
      ]
    },
    {
      "cell_type": "markdown",
      "source": [
        "functions"
      ],
      "metadata": {
        "id": "QN-hQm6zNKD8"
      }
    },
    {
      "cell_type": "code",
      "source": [
        "def remaining( a ) :\n",
        "  print(f\"{a} days are remaining\" , end=\"\\n\\n\");\n",
        "\n",
        "remaining('T-2');\n",
        "\n",
        "def sum( a = 15 , b = 20 ) : # passing default parameters so \n",
        "                        # if no parameters are passed then we can use default\n",
        "  return a + b;\n",
        "\n",
        "a = 20;\n",
        "b = 30;\n",
        "print( f\"sum of {a} and {b} is {sum()}\"  , end=\"\\n\\n\");\n",
        "\n",
        "\n",
        "# variable Length Arguments\n",
        "def varSum(*num) :\n",
        "\n",
        "  sum = 0 ;\n",
        "  for i in num:\n",
        "    sum += i;\n",
        "\n",
        "  return sum;\n",
        "\n",
        "print(\"variable sum: \" , varSum(10 , 20 , 30));\n",
        "\n",
        "print(\"variable sum: \" , varSum(10 , 20 , 30 , 50 , 90 , 100));"
      ],
      "metadata": {
        "colab": {
          "base_uri": "https://localhost:8080/"
        },
        "id": "Om7NqYK-NMIs",
        "outputId": "2b36751c-6181-4135-b2f9-a1f04958e7cb"
      },
      "execution_count": null,
      "outputs": [
        {
          "output_type": "stream",
          "name": "stdout",
          "text": [
            "T-2 days are remaining\n",
            "\n",
            "sum of 20 and 30 is 35\n",
            "\n",
            "variable sum:  60\n",
            "variable sum:  300\n"
          ]
        }
      ]
    },
    {
      "cell_type": "markdown",
      "source": [
        "scope"
      ],
      "metadata": {
        "id": "UgONVAjOQdSX"
      }
    },
    {
      "cell_type": "code",
      "source": [
        "# global variable\n",
        "var1 = 20;\n",
        "\n",
        "def scope_check() :\n",
        "  print(\"accessing global var1\" , var1);\n",
        "  var2 = 50; # local variable can't be acessed\n",
        "\n",
        "scope_check();\n",
        "\n",
        "# print(var2);\n",
        "\n",
        "var3 = 50;\n",
        "def scope_check2(var3) :\n",
        "   print(var3);\n",
        "\n",
        "scope_check2(100);"
      ],
      "metadata": {
        "colab": {
          "base_uri": "https://localhost:8080/"
        },
        "id": "OaLC4NIVQeuv",
        "outputId": "fe0a4e25-a648-4cda-b3ae-708fd2a1b71d"
      },
      "execution_count": null,
      "outputs": [
        {
          "output_type": "stream",
          "name": "stdout",
          "text": [
            "accessing global var1 20\n",
            "100\n"
          ]
        }
      ]
    },
    {
      "cell_type": "markdown",
      "source": [
        "user input"
      ],
      "metadata": {
        "id": "QRVnVkpBbkTb"
      }
    },
    {
      "cell_type": "code",
      "source": [
        "input_1 = input(\"Enter a number \"); # Always Takes User Input In Form Of String\n",
        "print(type(input_1));"
      ],
      "metadata": {
        "colab": {
          "base_uri": "https://localhost:8080/"
        },
        "id": "ZsePDcAfbmhm",
        "outputId": "4075a832-c51a-480c-cd9a-092c2d4179a9"
      },
      "execution_count": null,
      "outputs": [
        {
          "output_type": "stream",
          "name": "stdout",
          "text": [
            "Enter a number 55\n",
            "<class 'str'>\n"
          ]
        }
      ]
    }
  ]
}